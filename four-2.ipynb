{
 "metadata": {
  "language_info": {
   "codemirror_mode": {
    "name": "ipython",
    "version": 3
   },
   "file_extension": ".py",
   "mimetype": "text/x-python",
   "name": "python",
   "nbconvert_exporter": "python",
   "pygments_lexer": "ipython3",
   "version": "3.7.6-final"
  },
  "orig_nbformat": 2,
  "kernelspec": {
   "name": "python3",
   "display_name": "Python 3",
   "language": "python"
  }
 },
 "nbformat": 4,
 "nbformat_minor": 2,
 "cells": [
  {
   "cell_type": "code",
   "execution_count": 22,
   "metadata": {},
   "outputs": [],
   "source": [
    "import pandas as pd"
   ]
  },
  {
   "cell_type": "code",
   "execution_count": 23,
   "metadata": {},
   "outputs": [],
   "source": [
    "df = pd.read_csv('E:\\PIAIC\\Project\\Pandas-CoreyMS\\data\\survey_results_public.csv', index_col='Respondent')\n",
    "schema_df = pd.read_csv(\"E:\\PIAIC\\Project\\Pandas-CoreyMS\\data\\survey_results_schema.csv\", index_col='Column')\n",
    "# Download CSV Files from this link\n",
    "# https://insights.stackoverflow.com/survey"
   ]
  },
  {
   "cell_type": "code",
   "execution_count": 24,
   "metadata": {},
   "outputs": [],
   "source": [
    "pd.set_option('display.max_columns',85)\n",
    "pd.set_option('display.max_rows',85)"
   ]
  },
  {
   "cell_type": "code",
   "execution_count": 32,
   "metadata": {},
   "outputs": [],
   "source": [
    "high_salary = (df['ConvertedComp'] > 70000)"
   ]
  },
  {
   "cell_type": "code",
   "execution_count": null,
   "metadata": {},
   "outputs": [],
   "source": []
  },
  {
   "cell_type": "code",
   "execution_count": 34,
   "metadata": {},
   "outputs": [
    {
     "output_type": "execute_result",
     "data": {
      "text/plain": [
       "            ConvertedComp         Country  \\\n",
       "Respondent                                  \n",
       "6                366420.0          Canada   \n",
       "9                 95179.0     New Zealand   \n",
       "13                90000.0   United States   \n",
       "16               455352.0  United Kingdom   \n",
       "22               103000.0   United States   \n",
       "...                   ...             ...   \n",
       "88876            180000.0   United States   \n",
       "88877           2000000.0   United States   \n",
       "88878            130000.0   United States   \n",
       "88879             82488.0         Finland   \n",
       "88882            588012.0     Netherlands   \n",
       "\n",
       "                                           LanguageWorkedWith  \n",
       "Respondent                                                     \n",
       "6                                                  Java;R;SQL  \n",
       "9           Bash/Shell/PowerShell;C#;HTML/CSS;JavaScript;P...  \n",
       "13          Bash/Shell/PowerShell;HTML/CSS;JavaScript;PHP;...  \n",
       "16          Bash/Shell/PowerShell;C#;HTML/CSS;JavaScript;T...  \n",
       "22          Bash/Shell/PowerShell;C++;HTML/CSS;JavaScript;...  \n",
       "...                                                       ...  \n",
       "88876       Bash/Shell/PowerShell;C#;HTML/CSS;Java;Python;...  \n",
       "88877       Bash/Shell/PowerShell;C;Clojure;HTML/CSS;Java;...  \n",
       "88878                    HTML/CSS;JavaScript;Scala;TypeScript  \n",
       "88879                        Bash/Shell/PowerShell;C++;Python  \n",
       "88882                  C#;HTML/CSS;Java;JavaScript;PHP;Python  \n",
       "\n",
       "[22289 rows x 3 columns]"
      ],
      "text/html": "<div>\n<style scoped>\n    .dataframe tbody tr th:only-of-type {\n        vertical-align: middle;\n    }\n\n    .dataframe tbody tr th {\n        vertical-align: top;\n    }\n\n    .dataframe thead th {\n        text-align: right;\n    }\n</style>\n<table border=\"1\" class=\"dataframe\">\n  <thead>\n    <tr style=\"text-align: right;\">\n      <th></th>\n      <th>ConvertedComp</th>\n      <th>Country</th>\n      <th>LanguageWorkedWith</th>\n    </tr>\n    <tr>\n      <th>Respondent</th>\n      <th></th>\n      <th></th>\n      <th></th>\n    </tr>\n  </thead>\n  <tbody>\n    <tr>\n      <th>6</th>\n      <td>366420.0</td>\n      <td>Canada</td>\n      <td>Java;R;SQL</td>\n    </tr>\n    <tr>\n      <th>9</th>\n      <td>95179.0</td>\n      <td>New Zealand</td>\n      <td>Bash/Shell/PowerShell;C#;HTML/CSS;JavaScript;P...</td>\n    </tr>\n    <tr>\n      <th>13</th>\n      <td>90000.0</td>\n      <td>United States</td>\n      <td>Bash/Shell/PowerShell;HTML/CSS;JavaScript;PHP;...</td>\n    </tr>\n    <tr>\n      <th>16</th>\n      <td>455352.0</td>\n      <td>United Kingdom</td>\n      <td>Bash/Shell/PowerShell;C#;HTML/CSS;JavaScript;T...</td>\n    </tr>\n    <tr>\n      <th>22</th>\n      <td>103000.0</td>\n      <td>United States</td>\n      <td>Bash/Shell/PowerShell;C++;HTML/CSS;JavaScript;...</td>\n    </tr>\n    <tr>\n      <th>...</th>\n      <td>...</td>\n      <td>...</td>\n      <td>...</td>\n    </tr>\n    <tr>\n      <th>88876</th>\n      <td>180000.0</td>\n      <td>United States</td>\n      <td>Bash/Shell/PowerShell;C#;HTML/CSS;Java;Python;...</td>\n    </tr>\n    <tr>\n      <th>88877</th>\n      <td>2000000.0</td>\n      <td>United States</td>\n      <td>Bash/Shell/PowerShell;C;Clojure;HTML/CSS;Java;...</td>\n    </tr>\n    <tr>\n      <th>88878</th>\n      <td>130000.0</td>\n      <td>United States</td>\n      <td>HTML/CSS;JavaScript;Scala;TypeScript</td>\n    </tr>\n    <tr>\n      <th>88879</th>\n      <td>82488.0</td>\n      <td>Finland</td>\n      <td>Bash/Shell/PowerShell;C++;Python</td>\n    </tr>\n    <tr>\n      <th>88882</th>\n      <td>588012.0</td>\n      <td>Netherlands</td>\n      <td>C#;HTML/CSS;Java;JavaScript;PHP;Python</td>\n    </tr>\n  </tbody>\n</table>\n<p>22289 rows × 3 columns</p>\n</div>"
     },
     "metadata": {},
     "execution_count": 34
    }
   ],
   "source": [
    "df.loc[high_salary,['ConvertedComp','Country','LanguageWorkedWith']]"
   ]
  },
  {
   "cell_type": "code",
   "execution_count": 37,
   "metadata": {},
   "outputs": [
    {
     "output_type": "execute_result",
     "data": {
      "text/plain": [
       "Respondent\n",
       "1        United Kingdom\n",
       "4         United States\n",
       "8                 India\n",
       "10                India\n",
       "13        United States\n",
       "              ...      \n",
       "84539    United Kingdom\n",
       "85642     United States\n",
       "85961    United Kingdom\n",
       "86012             India\n",
       "88282     United States\n",
       "Name: Country, Length: 41613, dtype: object"
      ]
     },
     "metadata": {},
     "execution_count": 37
    }
   ],
   "source": [
    "countries =['United States','India','United Kingdom','Germany']\n",
    "filt = df['Country'].isin(countries)\n",
    "df.loc[filt,'Country']"
   ]
  },
  {
   "cell_type": "code",
   "execution_count": 43,
   "metadata": {},
   "outputs": [
    {
     "output_type": "execute_result",
     "data": {
      "text/plain": [
       "Respondent\n",
       "1                          HTML/CSS;Java;JavaScript;Python\n",
       "2                                      C++;HTML/CSS;Python\n",
       "4                                      C;C++;C#;Python;SQL\n",
       "5              C++;HTML/CSS;Java;JavaScript;Python;SQL;VBA\n",
       "8        Bash/Shell/PowerShell;C;C++;HTML/CSS;Java;Java...\n",
       "                               ...                        \n",
       "84539    Bash/Shell/PowerShell;C;C++;HTML/CSS;Java;Java...\n",
       "85738      Bash/Shell/PowerShell;C++;Python;Ruby;Other(s):\n",
       "86566      Bash/Shell/PowerShell;HTML/CSS;Python;Other(s):\n",
       "87739             C;C++;HTML/CSS;JavaScript;PHP;Python;SQL\n",
       "88212                           HTML/CSS;JavaScript;Python\n",
       "Name: LanguageWorkedWith, Length: 36443, dtype: object"
      ]
     },
     "metadata": {},
     "execution_count": 43
    }
   ],
   "source": [
    "filtLang = df['LanguageWorkedWith'].str.contains('Python',na=False)\n",
    "df.loc[filtLang,'LanguageWorkedWith']"
   ]
  }
 ]
}