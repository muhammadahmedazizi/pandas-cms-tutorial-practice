{
 "metadata": {
  "language_info": {
   "codemirror_mode": {
    "name": "ipython",
    "version": 3
   },
   "file_extension": ".py",
   "mimetype": "text/x-python",
   "name": "python",
   "nbconvert_exporter": "python",
   "pygments_lexer": "ipython3",
   "version": "3.7.6-final"
  },
  "orig_nbformat": 2,
  "kernelspec": {
   "name": "python3",
   "display_name": "Python 3",
   "language": "python"
  }
 },
 "nbformat": 4,
 "nbformat_minor": 2,
 "cells": [
  {
   "cell_type": "code",
   "execution_count": 37,
   "metadata": {},
   "outputs": [],
   "source": [
    "import pandas as pd"
   ]
  },
  {
   "cell_type": "code",
   "execution_count": 38,
   "metadata": {},
   "outputs": [],
   "source": [
    "df = pd.read_csv('E:\\PIAIC\\Project\\Pandas-CoreyMS\\data\\survey_results_public.csv', index_col='Respondent')\n",
    "schema_df = pd.read_csv(\"E:\\PIAIC\\Project\\Pandas-CoreyMS\\data\\survey_results_schema.csv\", index_col='Column')\n",
    "# Download CSV Files from this link\n",
    "# https://insights.stackoverflow.com/survey"
   ]
  },
  {
   "cell_type": "code",
   "execution_count": 39,
   "metadata": {},
   "outputs": [],
   "source": [
    "pd.set_option('display.max_columns',85)\n",
    "pd.set_option('display.max_rows',85)"
   ]
  },
  {
   "cell_type": "code",
   "execution_count": 40,
   "metadata": {},
   "outputs": [
    {
     "output_type": "execute_result",
     "data": {
      "text/plain": [
       "Respondent\n",
       "1          NaN\n",
       "2          NaN\n",
       "3       8820.0\n",
       "4      61000.0\n",
       "5          NaN\n",
       "6     366420.0\n",
       "7          NaN\n",
       "8          NaN\n",
       "9      95179.0\n",
       "10     13293.0\n",
       "11         NaN\n",
       "12         NaN\n",
       "13     90000.0\n",
       "14     57060.0\n",
       "15         NaN\n",
       "Name: ConvertedComp, dtype: float64"
      ]
     },
     "metadata": {},
     "execution_count": 40
    }
   ],
   "source": [
    "df['ConvertedComp'].head(15)"
   ]
  },
  {
   "cell_type": "code",
   "execution_count": 41,
   "metadata": {},
   "outputs": [
    {
     "output_type": "execute_result",
     "data": {
      "text/plain": [
       "57287.0"
      ]
     },
     "metadata": {},
     "execution_count": 41
    }
   ],
   "source": [
    "df['ConvertedComp'].median()\n"
   ]
  },
  {
   "cell_type": "code",
   "execution_count": 42,
   "metadata": {},
   "outputs": [
    {
     "output_type": "execute_result",
     "data": {
      "text/plain": [
       "CompTotal        62000.0\n",
       "ConvertedComp    57287.0\n",
       "WorkWeekHrs         40.0\n",
       "CodeRevHrs           4.0\n",
       "Age                 29.0\n",
       "dtype: float64"
      ]
     },
     "metadata": {},
     "execution_count": 42
    }
   ],
   "source": [
    "df.median()"
   ]
  },
  {
   "cell_type": "code",
   "execution_count": 43,
   "metadata": {},
   "outputs": [
    {
     "output_type": "execute_result",
     "data": {
      "text/plain": [
       "          CompTotal  ConvertedComp   WorkWeekHrs    CodeRevHrs           Age\n",
       "count  5.594500e+04   5.582300e+04  64503.000000  49790.000000  79210.000000\n",
       "mean   5.519014e+11   1.271107e+05     42.127197      5.084308     30.336699\n",
       "std    7.331926e+13   2.841523e+05     37.287610      5.513931      9.178390\n",
       "min    0.000000e+00   0.000000e+00      1.000000      0.000000      1.000000\n",
       "25%    2.000000e+04   2.577750e+04     40.000000      2.000000     24.000000\n",
       "50%    6.200000e+04   5.728700e+04     40.000000      4.000000     29.000000\n",
       "75%    1.200000e+05   1.000000e+05     44.750000      6.000000     35.000000\n",
       "max    1.000000e+16   2.000000e+06   4850.000000     99.000000     99.000000"
      ],
      "text/html": "<div>\n<style scoped>\n    .dataframe tbody tr th:only-of-type {\n        vertical-align: middle;\n    }\n\n    .dataframe tbody tr th {\n        vertical-align: top;\n    }\n\n    .dataframe thead th {\n        text-align: right;\n    }\n</style>\n<table border=\"1\" class=\"dataframe\">\n  <thead>\n    <tr style=\"text-align: right;\">\n      <th></th>\n      <th>CompTotal</th>\n      <th>ConvertedComp</th>\n      <th>WorkWeekHrs</th>\n      <th>CodeRevHrs</th>\n      <th>Age</th>\n    </tr>\n  </thead>\n  <tbody>\n    <tr>\n      <th>count</th>\n      <td>5.594500e+04</td>\n      <td>5.582300e+04</td>\n      <td>64503.000000</td>\n      <td>49790.000000</td>\n      <td>79210.000000</td>\n    </tr>\n    <tr>\n      <th>mean</th>\n      <td>5.519014e+11</td>\n      <td>1.271107e+05</td>\n      <td>42.127197</td>\n      <td>5.084308</td>\n      <td>30.336699</td>\n    </tr>\n    <tr>\n      <th>std</th>\n      <td>7.331926e+13</td>\n      <td>2.841523e+05</td>\n      <td>37.287610</td>\n      <td>5.513931</td>\n      <td>9.178390</td>\n    </tr>\n    <tr>\n      <th>min</th>\n      <td>0.000000e+00</td>\n      <td>0.000000e+00</td>\n      <td>1.000000</td>\n      <td>0.000000</td>\n      <td>1.000000</td>\n    </tr>\n    <tr>\n      <th>25%</th>\n      <td>2.000000e+04</td>\n      <td>2.577750e+04</td>\n      <td>40.000000</td>\n      <td>2.000000</td>\n      <td>24.000000</td>\n    </tr>\n    <tr>\n      <th>50%</th>\n      <td>6.200000e+04</td>\n      <td>5.728700e+04</td>\n      <td>40.000000</td>\n      <td>4.000000</td>\n      <td>29.000000</td>\n    </tr>\n    <tr>\n      <th>75%</th>\n      <td>1.200000e+05</td>\n      <td>1.000000e+05</td>\n      <td>44.750000</td>\n      <td>6.000000</td>\n      <td>35.000000</td>\n    </tr>\n    <tr>\n      <th>max</th>\n      <td>1.000000e+16</td>\n      <td>2.000000e+06</td>\n      <td>4850.000000</td>\n      <td>99.000000</td>\n      <td>99.000000</td>\n    </tr>\n  </tbody>\n</table>\n</div>"
     },
     "metadata": {},
     "execution_count": 43
    }
   ],
   "source": [
    "df.describe()"
   ]
  },
  {
   "cell_type": "code",
   "execution_count": 44,
   "metadata": {},
   "outputs": [
    {
     "output_type": "execute_result",
     "data": {
      "text/plain": [
       "55823"
      ]
     },
     "metadata": {},
     "execution_count": 44
    }
   ],
   "source": [
    "df['ConvertedComp'].count()\n"
   ]
  },
  {
   "cell_type": "code",
   "execution_count": 45,
   "metadata": {},
   "outputs": [
    {
     "output_type": "execute_result",
     "data": {
      "text/plain": [
       "Yes    71257\n",
       "No     17626\n",
       "Name: Hobbyist, dtype: int64"
      ]
     },
     "metadata": {},
     "execution_count": 45
    }
   ],
   "source": [
    "# How many people has answered this question\n",
    "df['Hobbyist'].value_counts()"
   ]
  },
  {
   "cell_type": "code",
   "execution_count": 48,
   "metadata": {},
   "outputs": [
    {
     "output_type": "execute_result",
     "data": {
      "text/plain": [
       "QuestionText    What social media site do you use the most?\n",
       "Name: SocialMedia, dtype: object"
      ]
     },
     "metadata": {},
     "execution_count": 48
    }
   ],
   "source": [
    "# We can check complete question in schema dataframe\n",
    "schema_df.loc['SocialMedia']"
   ]
  },
  {
   "cell_type": "code",
   "execution_count": 51,
   "metadata": {},
   "outputs": [
    {
     "output_type": "execute_result",
     "data": {
      "text/plain": [
       "Reddit                      14374\n",
       "YouTube                     13830\n",
       "WhatsApp                    13347\n",
       "Facebook                    13178\n",
       "Twitter                     11398\n",
       "Instagram                    6261\n",
       "I don't use social media     5554\n",
       "LinkedIn                     4501\n",
       "WeChat 微信                     667\n",
       "Snapchat                      628\n",
       "VK ВКонта́кте                 603\n",
       "Weibo 新浪微博                     56\n",
       "Youku Tudou 优酷                 21\n",
       "Hello                          19\n",
       "Name: SocialMedia, dtype: int64"
      ]
     },
     "metadata": {},
     "execution_count": 51
    }
   ],
   "source": [
    "df['SocialMedia'].value_counts()"
   ]
  },
  {
   "cell_type": "code",
   "execution_count": 54,
   "metadata": {},
   "outputs": [
    {
     "output_type": "execute_result",
     "data": {
      "text/plain": [
       "Reddit                      0.170233\n",
       "YouTube                     0.163791\n",
       "WhatsApp                    0.158071\n",
       "Facebook                    0.156069\n",
       "Twitter                     0.134988\n",
       "Instagram                   0.074150\n",
       "I don't use social media    0.065777\n",
       "LinkedIn                    0.053306\n",
       "WeChat 微信                   0.007899\n",
       "Snapchat                    0.007437\n",
       "VK ВКонта́кте               0.007141\n",
       "Weibo 新浪微博                  0.000663\n",
       "Youku Tudou 优酷              0.000249\n",
       "Hello                       0.000225\n",
       "Name: SocialMedia, dtype: float64"
      ]
     },
     "metadata": {},
     "execution_count": 54
    }
   ],
   "source": [
    "# To see in percentage use normalize parameter\n",
    "df['SocialMedia'].value_counts(normalize=True)"
   ]
  },
  {
   "cell_type": "code",
   "execution_count": 58,
   "metadata": {},
   "outputs": [
    {
     "output_type": "execute_result",
     "data": {
      "text/plain": [
       "United States            20949\n",
       "India                     9061\n",
       "Germany                   5866\n",
       "United Kingdom            5737\n",
       "Canada                    3395\n",
       "                         ...  \n",
       "Dominica                     1\n",
       "Brunei Darussalam            1\n",
       "Chad                         1\n",
       "Timor-Leste                  1\n",
       "Sao Tome and Principe        1\n",
       "Name: Country, Length: 179, dtype: int64"
      ]
     },
     "metadata": {},
     "execution_count": 58
    }
   ],
   "source": [
    "# Grouping Data\n",
    "# Social Media Use by countries\n",
    "#SPLIT  > APPLY FUNCTION > COMBINE\n",
    "df['Country'].value_counts()"
   ]
  },
  {
   "cell_type": "code",
   "execution_count": 64,
   "metadata": {},
   "outputs": [],
   "source": [
    "# Grouping Data\n",
    "# Social Media Use by countries\n",
    "#SPLIT  > APPLY FUNCTION > COMBINE\n",
    "country_group = df.groupby(['Country'])"
   ]
  },
  {
   "cell_type": "code",
   "execution_count": 70,
   "metadata": {},
   "outputs": [
    {
     "output_type": "execute_result",
     "data": {
      "text/plain": [
       "                      Microsoft SQL Server   \n",
       "311          MongoDB;Microsoft SQL Server;MySQL;SQLite   \n",
       "...                                                ...   \n",
       "88862                                         Firebase   \n",
       "5439                                               NaN   \n",
       "39117                                              NaN   \n",
       "60066                            Firebase;MySQL;SQLite   \n",
       "88182                                              NaN   \n",
       "\n",
       "                                       DatabaseDesireNextYear  \\\n",
       "Respondent                                                      \n",
       "84                               Firebase;MySQL;Oracle;SQLite   \n",
       "119         Firebase;MongoDB;Microsoft SQL Server;MySQL;SQ...   \n",
       "298          DynamoDB;Firebase;MongoDB;MySQL;PostgreSQL;Redis   \n",
       "299                                                       NaN   \n",
       "311         Cassandra;Firebase;MongoDB;Microsoft SQL Serve...   \n",
       "...                                                       ...   \n",
       "88862                    Firebase;MongoDB;MySQL;Oracle;SQLite   \n",
       "5439                                                    MySQL   \n",
       "39117                                                     NaN   \n",
       "60066                           Firebase;MongoDB;MySQL;SQLite   \n",
       "88182                                                     NaN   \n",
       "\n",
       "                                           PlatformWorkedWith  \\\n",
       "Respondent                                                      \n",
       "84                                            Android;Windows   \n",
       "119                                   Android;Slack;WordPress   \n",
       "298                         AWS;Linux;Slack;Windows;WordPress   \n",
       "299                Android;Arduino;Linux;Raspberry Pi;Windows   \n",
       "311         Arduino;IBM Cloud or Watson;Linux;Raspberry Pi...   \n",
       "...                                                       ...   \n",
       "88862                                         Android;Arduino   \n",
       "5439                                                      NaN   \n",
       "39117                                                 Android   \n",
       "60066                                         Android;Windows   \n",
       "88182                                   Google Cloud Platform   \n",
       "\n",
       "                                       PlatformDesireNextYear  \\\n",
       "Respondent                                                      \n",
       "84                                            Android;Windows   \n",
       "119                               Android;iOS;Slack;WordPress   \n",
       "298                     AWS;Docker;Heroku;Linux;Slack;Windows   \n",
       "299                        Arduino;Linux;Raspberry Pi;Windows   \n",
       "311         Android;Arduino;AWS;Docker;Google Cloud Platfo...   \n",
       "...                                                       ...   \n",
       "88862                               Android;Arduino;iOS;MacOS   \n",
       "5439        Android;IBM Cloud or Watson;iOS;MacOS;Windows;...   \n",
       "39117                                                 Android   \n",
       "60066       Android;Docker;Google Cloud Platform;IBM Cloud...   \n",
       "88182                                                     NaN   \n",
       "\n",
       "                        WebFrameWorkedWith  \\\n",
       "Respondent                                   \n",
       "84                                 ASP.NET   \n",
       "119                                ASP.NET   \n",
       "298         ASP.NET;jQuery;React.js;Vue.js   \n",
       "299                                    NaN   \n",
       "311          ASP.NET;Django;Express;Spring   \n",
       "...                                    ...   \n",
       "88862                                  NaN   \n",
       "5439                                   NaN   \n",
       "39117                              ASP.NET   \n",
       "60066                                  NaN   \n",
       "88182                            Other(s):   \n",
       "\n",
       "                                       WebFrameDesireNextYear  \\\n",
       "Respondent                                                      \n",
       "84                                                        NaN   \n",
       "119                               Angular/Angular.js;React.js   \n",
       "298                                           React.js;Vue.js   \n",
       "299                                                       NaN   \n",
       "311         Angular/Angular.js;ASP.NET;Django;Express;jQue...   \n",
       "...                                                       ...   \n",
       "88862                                                React.js   \n",
       "5439                                                  Express   \n",
       "39117                                                     NaN   \n",
       "60066               Angular/Angular.js;Django;React.js;Spring   \n",
       "88182                                                     NaN   \n",
       "\n",
       "              MiscTechWorkedWith       MiscTechDesireNextYear  \\\n",
       "Respondent                                                      \n",
       "84                      Unity 3D                     Unity 3D   \n",
       "119                         .NET         Node.js;React Native   \n",
       "298                      Node.js         Node.js;React Native   \n",
       "299         TensorFlow;Other(s):                    Other(s):   \n",
       "311                 .NET;Node.js  Apache Spark;Hadoop;Node.js   \n",
       "...                          ...                          ...   \n",
       "88862                        NaN         Node.js;React Native   \n",
       "5439                         NaN                     Unity 3D   \n",
       "39117               .NET;Xamarin                 .NET;Xamarin   \n",
       "60066                   Unity 3D     Flutter;Node.js;Unity 3D   \n",
       "88182                  Other(s):                          NaN   \n",
       "\n",
       "                                                   DevEnviron    OpSys  \\\n",
       "Respondent                                                               \n",
       "84                               Android Studio;Visual Studio  Windows   \n",
       "119                                  Android Studio;Notepad++  Windows   \n",
       "298                       PHPStorm;Sublime Text;Visual Studio  Windows   \n",
       "299                                         Notepad++;PyCharm  Windows   \n",
       "311                     NetBeans;Notepad++;Visual Studio Code  Windows   \n",
       "...                                                       ...      ...   \n",
       "88862                                    Android Studio;Xcode    MacOS   \n",
       "5439                                           Android Studio  Windows   \n",
       "39117       Android Studio;Notepad++;Sublime Text;Visual S...  Windows   \n",
       "60066       Android Studio;NetBeans;PyCharm;Visual Studio ...  Windows   \n",
       "88182                                          Android Studio  Windows   \n",
       "\n",
       "                                                   Containers  \\\n",
       "Respondent                                                      \n",
       "84          Development;Testing;Production;Outside of work...   \n",
       "119                                               Development   \n",
       "298                                               Development   \n",
       "299                                   I do not use containers   \n",
       "311                                       Development;Testing   \n",
       "...                                                       ...   \n",
       "88862                                             Development   \n",
       "5439                                               Production   \n",
       "39117       Development;Testing;Production;Outside of work...   \n",
       "60066                                 I do not use containers   \n",
       "88182                                             Development   \n",
       "\n",
       "                                      BlockchainOrg  \\\n",
       "Respondent                                            \n",
       "84                                       Not at all   \n",
       "119                                      Not at all   \n",
       "298                                             NaN   \n",
       "299                                      Not at all   \n",
       "311         Non-currency applications of blockchain   \n",
       "...                                             ...   \n",
       "88862                                           NaN   \n",
       "5439                                            NaN   \n",
       "39117                                           NaN   \n",
       "60066                                           NaN   \n",
       "88182                                           NaN   \n",
       "\n",
       "                                                 BlockchainIs BetterLife  \\\n",
       "Respondent                                                                 \n",
       "84                                                        NaN         No   \n",
       "119         Useful for decentralized currency (i.e., Bitcoin)        Yes   \n",
       "298                                                       NaN        Yes   \n",
       "299                                             A passing fad        Yes   \n",
       "311         Useful across many domains and could change ma...        Yes   \n",
       "...                                                       ...        ...   \n",
       "88862       Useful across many domains and could change ma...        Yes   \n",
       "5439                                            A passing fad        Yes   \n",
       "39117                                                     NaN        Yes   \n",
       "60066       Useful across many domains and could change ma...        Yes   \n",
       "88182       Useful across many domains and could change ma...        Yes   \n",
       "\n",
       "            ITperson  OffOn SocialMedia              Extraversion  \\\n",
       "Respondent                                                          \n",
       "84          Also Yes     No    WhatsApp  In real life (in person)   \n",
       "119         Also Yes     No    Facebook  In real life (in person)   \n",
       "298              Yes     No    LinkedIn                   Neither   \n",
       "299              Yes    Yes    Facebook  In real life (in person)   \n",
       "311              Yes     No    LinkedIn                    Online   \n",
       "...              ...    ...         ...                       ...   \n",
       "88862            Yes  What?    WhatsApp                    Online   \n",
       "5439             Yes    Yes   Instagram                    Online   \n",
       "39117            Yes     No    WhatsApp  In real life (in person)   \n",
       "60066            Yes  What?     YouTube  In real life (in person)   \n",
       "88182       Also Yes  What?     Twitter                   Neither   \n",
       "\n",
       "             ScreenName SOVisit1st  \\\n",
       "Respondent                           \n",
       "84          Screen Name       2016   \n",
       "119            Username       2010   \n",
       "298            Username       2017   \n",
       "299            Username       2011   \n",
       "311               Login       2014   \n",
       "...                 ...        ...   \n",
       "88862            UserID       2016   \n",
       "5439             UserID       2018   \n",
       "39117          Username       2015   \n",
       "60066          Username       2017   \n",
       "88182          Username        NaN   \n",
       "\n",
       "                                                  SOVisitFreq  \\\n",
       "Respondent                                                      \n",
       "84                                     Multiple times per day   \n",
       "119                                    Multiple times per day   \n",
       "298                                      A few times per week   \n",
       "299                                     Daily or almost daily   \n",
       "311                                     Daily or almost daily   \n",
       "...                                                       ...   \n",
       "88862                                  Multiple times per day   \n",
       "5439        I have never visited Stack Overflow (before to...   \n",
       "39117                                   Daily or almost daily   \n",
       "60066                                    A few times per week   \n",
       "88182       I have never visited Stack Overflow (before to...   \n",
       "\n",
       "                                                    SOVisitTo  \\\n",
       "Respondent                                                      \n",
       "84          Learn how to do things I didn’t necessarily lo...   \n",
       "119         Find answers to specific questions;Learn how t...   \n",
       "298         Find answers to specific questions;Learn how t...   \n",
       "299                        Find answers to specific questions   \n",
       "311         Find answers to specific questions;Get a sense...   \n",
       "...                                                       ...   \n",
       "88862                      Find answers to specific questions   \n",
       "5439        Meet other people with similar skills or inter...   \n",
       "39117       Find answers to specific questions;Learn how t...   \n",
       "60066       Find answers to specific questions;Meet other ...   \n",
       "88182       Get a sense of belonging to the developer comm...   \n",
       "\n",
       "                           SOFindAnswer  \\\n",
       "Respondent                                \n",
       "84          More than 10 times per week   \n",
       "119         More than 10 times per week   \n",
       "298                  1-2 times per week   \n",
       "299                  3-5 times per week   \n",
       "311         More than 10 times per week   \n",
       "...                                 ...   \n",
       "88862       More than 10 times per week   \n",
       "5439            Less than once per week   \n",
       "39117           Less than once per week   \n",
       "60066                3-5 times per week   \n",
       "88182           Less than once per week   \n",
       "\n",
       "                                       SOTimeSaved  SOHowMuchTime SOAccount  \\\n",
       "Respondent                                                                    \n",
       "84                  Stack Overflow was much faster  11-30 minutes       Yes   \n",
       "119                 Stack Overflow was much faster  31-60 minutes       Yes   \n",
       "298                 Stack Overflow was much faster  31-60 minutes       Yes   \n",
       "299                                            NaN            NaN       Yes   \n",
       "311             Stack Overflow was slightly faster   0-10 minutes       Yes   \n",
       "...                                            ...            ...       ...   \n",
       "88862           Stack Overflow was slightly faster  31-60 minutes       Yes   \n",
       "5439                Stack Overflow was much faster  31-60 minutes       NaN   \n",
       "39117               Stack Overflow was much faster  31-60 minutes       Yes   \n",
       "60066           Stack Overflow was slightly faster  11-30 minutes       Yes   \n",
       "88182       The other resource was slightly faster    60+ minutes       NaN   \n",
       "\n",
       "                                     SOPartFreq  \\\n",
       "Respondent                                        \n",
       "84                        Daily or almost daily   \n",
       "119                       Daily or almost daily   \n",
       "298         Less than once per month or monthly   \n",
       "299         Less than once per month or monthly   \n",
       "311         Less than once per month or monthly   \n",
       "...                                         ...   \n",
       "88862           A few times per month or weekly   \n",
       "5439                                        NaN   \n",
       "39117                     Daily or almost daily   \n",
       "60066       Less than once per month or monthly   \n",
       "88182                                       NaN   \n",
       "\n",
       "                                                       SOJobs  \\\n",
       "Respondent                                                      \n",
       "84                                                        Yes   \n",
       "119                                                       Yes   \n",
       "298         No, I knew that Stack Overflow had a job board...   \n",
       "299         No, I knew that Stack Overflow had a job board...   \n",
       "311         No, I knew that Stack Overflow had a job board...   \n",
       "...                                                       ...   \n",
       "88862       No, I knew that Stack Overflow had a job board...   \n",
       "5439        No, I didn't know that Stack Overflow had a jo...   \n",
       "39117       No, I didn't know that Stack Overflow had a jo...   \n",
       "60066       No, I knew that Stack Overflow had a job board...   \n",
       "88182       No, I didn't know that Stack Overflow had a jo...   \n",
       "\n",
       "                                                     EntTeams  \\\n",
       "Respondent                                                      \n",
       "84                                                        Yes   \n",
       "119         No, I've heard of them, but I am not part of a...   \n",
       "298         No, I've heard of them, but I am not part of a...   \n",
       "299                       No, and I don't know what those are   \n",
       "311                       No, and I don't know what those are   \n",
       "...                                                       ...   \n",
       "88862       No, I've heard of them, but I am not part of a...   \n",
       "5439        No, I've heard of them, but I am not part of a...   \n",
       "39117                     No, and I don't know what those are   \n",
       "60066                     No, and I don't know what those are   \n",
       "88182                     No, and I don't know what those are   \n",
       "\n",
       "                     SOComm  \\\n",
       "Respondent                    \n",
       "84          Yes, definitely   \n",
       "119         Yes, definitely   \n",
       "298         Yes, definitely   \n",
       "299          No, not at all   \n",
       "311           Yes, somewhat   \n",
       "...                     ...   \n",
       "88862       Yes, definitely   \n",
       "5439         No, not at all   \n",
       "39117         Yes, somewhat   \n",
       "60066       Yes, definitely   \n",
       "88182               Neutral   \n",
       "\n",
       "                                                WelcomeChange  \\\n",
       "Respondent                                                      \n",
       "84                      A lot more welcome now than last year   \n",
       "119                   Just as welcome now as I felt last year   \n",
       "298                  Somewhat more welcome now than last year   \n",
       "299                  Somewhat more welcome now than last year   \n",
       "311                   Just as welcome now as I felt last year   \n",
       "...                                                       ...   \n",
       "88862                Somewhat more welcome now than last year   \n",
       "5439                    A lot more welcome now than last year   \n",
       "39117                 Just as welcome now as I felt last year   \n",
       "60066                 Just as welcome now as I felt last year   \n",
       "88182       Not applicable - I did not use Stack Overflow ...   \n",
       "\n",
       "                                                 SONewContent   Age Gender  \\\n",
       "Respondent                                                                   \n",
       "84               Courses on technologies you're interested in  26.0    Man   \n",
       "119         Tech articles written by other developers;Indu...  28.0    Man   \n",
       "298         Tech articles written by other developers;Indu...  23.0    Man   \n",
       "299                                                       NaN  25.0    Man   \n",
       "311         Industry news about technologies you're intere...  24.0    Man   \n",
       "...                                                       ...   ...    ...   \n",
       "88862               Tech articles written by other developers  21.0    Man   \n",
       "5439        Industry news about technologies you're intere...  24.0  Woman   \n",
       "39117       Tech articles written by other developers;Indu...  22.0    Man   \n",
       "60066       Tech articles written by other developers;Cour...  20.0    Man   \n",
       "88182            Courses on technologies you're interested in   NaN    Man   \n",
       "\n",
       "           Trans                         Sexuality       Ethnicity Dependents  \\\n",
       "Respondent                                                                      \n",
       "84            No           Straight / Heterosexual  Middle Eastern         No   \n",
       "119           No                               NaN             NaN        Yes   \n",
       "298           No                               NaN             NaN         No   \n",
       "299           No           Straight / Heterosexual     South Asian        Yes   \n",
       "311           No           Straight / Heterosexual     South Asian        Yes   \n",
       "...          ...                               ...             ...        ...   \n",
       "88862         No                          Bisexual             NaN        Yes   \n",
       "5439         Yes                               NaN             NaN         No   \n",
       "39117         No  Bisexual;Straight / Heterosexual      East Asian        Yes   \n",
       "60066         No           Straight / Heterosexual     South Asian        Yes   \n",
       "88182         No           Straight / Heterosexual             NaN        Yes   \n",
       "\n",
       "                     SurveyLength                  SurveyEase  \n",
       "Respondent                                                     \n",
       "84                       Too long  Neither easy nor difficult  \n",
       "119         Appropriate in length                        Easy  \n",
       "298                      Too long  Neither easy nor difficult  \n",
       "299         Appropriate in length                        Easy  \n",
       "311         Appropriate in length  Neither easy nor difficult  \n",
       "...                           ...                         ...  \n",
       "88862                    Too long                   Difficult  \n",
       "5439                    Too short                        Easy  \n",
       "39117       Appropriate in length                        Easy  \n",
       "60066       Appropriate in length                        Easy  \n",
       "88182                   Too short  Neither easy nor difficult  \n",
       "\n",
       "[923 rows x 84 columns]"
      ],
      "text/html": "<div>\n<style scoped>\n    .dataframe tbody tr th:only-of-type {\n        vertical-align: middle;\n    }\n\n    .dataframe tbody tr th {\n        vertical-align: top;\n    }\n\n    .dataframe thead th {\n        text-align: right;\n    }\n</style>\n<table border=\"1\" class=\"dataframe\">\n  <thead>\n    <tr style=\"text-align: right;\">\n      <th></th>\n      <th>MainBranch</th>\n      <th>Hobbyist</th>\n      <th>OpenSourcer</th>\n      <th>OpenSource</th>\n      <th>Employment</th>\n      <th>Country</th>\n      <th>Student</th>\n      <th>EdLevel</th>\n      <th>UndergradMajor</th>\n      <th>EduOther</th>\n      <th>OrgSize</th>\n      <th>DevType</th>\n      <th>YearsCode</th>\n      <th>Age1stCode</th>\n      <th>YearsCodePro</th>\n      <th>CareerSat</th>\n      <th>JobSat</th>\n      <th>MgrIdiot</th>\n      <th>MgrMoney</th>\n      <th>MgrWant</th>\n      <th>JobSeek</th>\n      <th>LastHireDate</th>\n      <th>LastInt</th>\n      <th>FizzBuzz</th>\n      <th>JobFactors</th>\n      <th>ResumeUpdate</th>\n      <th>CurrencySymbol</th>\n      <th>CurrencyDesc</th>\n      <th>CompTotal</th>\n      <th>CompFreq</th>\n      <th>ConvertedComp</th>\n      <th>WorkWeekHrs</th>\n      <th>WorkPlan</th>\n      <th>WorkChallenge</th>\n      <th>WorkRemote</th>\n      <th>WorkLoc</th>\n      <th>ImpSyn</th>\n      <th>CodeRev</th>\n      <th>CodeRevHrs</th>\n      <th>UnitTests</th>\n      <th>PurchaseHow</th>\n      <th>PurchaseWhat</th>\n      <th>LanguageWorkedWith</th>\n      <th>LanguageDesireNextYear</th>\n      <th>DatabaseWorkedWith</th>\n      <th>DatabaseDesireNextYear</th>\n      <th>PlatformWorkedWith</th>\n      <th>PlatformDesireNextYear</th>\n      <th>WebFrameWorkedWith</th>\n      <th>WebFrameDesireNextYear</th>\n      <th>MiscTechWorkedWith</th>\n      <th>MiscTechDesireNextYear</th>\n      <th>DevEnviron</th>\n      <th>OpSys</th>\n      <th>Containers</th>\n      <th>BlockchainOrg</th>\n      <th>BlockchainIs</th>\n      <th>BetterLife</th>\n      <th>ITperson</th>\n      <th>OffOn</th>\n      <th>SocialMedia</th>\n      <th>Extraversion</th>\n      <th>ScreenName</th>\n      <th>SOVisit1st</th>\n      <th>SOVisitFreq</th>\n      <th>SOVisitTo</th>\n      <th>SOFindAnswer</th>\n      <th>SOTimeSaved</th>\n      <th>SOHowMuchTime</th>\n      <th>SOAccount</th>\n      <th>SOPartFreq</th>\n      <th>SOJobs</th>\n      <th>EntTeams</th>\n      <th>SOComm</th>\n      <th>WelcomeChange</th>\n      <th>SONewContent</th>\n      <th>Age</th>\n      <th>Gender</th>\n      <th>Trans</th>\n      <th>Sexuality</th>\n      <th>Ethnicity</th>\n      <th>Dependents</th>\n      <th>SurveyLength</th>\n      <th>SurveyEase</th>\n    </tr>\n    <tr>\n      <th>Respondent</th>\n      <th></th>\n      <th></th>\n      <th></th>\n      <th></th>\n      <th></th>\n      <th></th>\n      <th></th>\n      <th></th>\n      <th></th>\n      <th></th>\n      <th></th>\n      <th></th>\n      <th></th>\n      <th></th>\n      <th></th>\n      <th></th>\n      <th></th>\n      <th></th>\n      <th></th>\n      <th></th>\n      <th></th>\n      <th></th>\n      <th></th>\n      <th></th>\n      <th></th>\n      <th></th>\n      <th></th>\n      <th></th>\n      <th></th>\n      <th></th>\n      <th></th>\n      <th></th>\n      <th></th>\n      <th></th>\n      <th></th>\n      <th></th>\n      <th></th>\n      <th></th>\n      <th></th>\n      <th></th>\n      <th></th>\n      <th></th>\n      <th></th>\n      <th></th>\n      <th></th>\n      <th></th>\n      <th></th>\n      <th></th>\n      <th></th>\n      <th></th>\n      <th></th>\n      <th></th>\n      <th></th>\n      <th></th>\n      <th></th>\n      <th></th>\n      <th></th>\n      <th></th>\n      <th></th>\n      <th></th>\n      <th></th>\n      <th></th>\n      <th></th>\n      <th></th>\n      <th></th>\n      <th></th>\n      <th></th>\n      <th></th>\n      <th></th>\n      <th></th>\n      <th></th>\n      <th></th>\n      <th></th>\n      <th></th>\n      <th></th>\n      <th></th>\n      <th></th>\n      <th></th>\n      <th></th>\n      <th></th>\n      <th></th>\n      <th></th>\n      <th></th>\n      <th></th>\n    </tr>\n  </thead>\n  <tbody>\n    <tr>\n      <th>84</th>\n      <td>I am a developer by profession</td>\n      <td>No</td>\n      <td>Never</td>\n      <td>OSS is, on average, of HIGHER quality than pro...</td>\n      <td>Employed full-time</td>\n      <td>Pakistan</td>\n      <td>Yes, full-time</td>\n      <td>Bachelor’s degree (BA, BS, B.Eng., etc.)</td>\n      <td>Computer science, computer engineering, or sof...</td>\n      <td>NaN</td>\n      <td>2-9 employees</td>\n      <td>Designer;Developer, mobile;Educator;Student</td>\n      <td>3</td>\n      <td>20</td>\n      <td>2</td>\n      <td>Slightly satisfied</td>\n      <td>Slightly satisfied</td>\n      <td>Somewhat confident</td>\n      <td>Yes</td>\n      <td>Yes</td>\n      <td>I’m not actively looking, but I am open to new...</td>\n      <td>1-2 years ago</td>\n      <td>Solve a brain-teaser style puzzle;Interview wi...</td>\n      <td>Yes</td>\n      <td>Office environment or company culture;Opportun...</td>\n      <td>I was preparing for a job search</td>\n      <td>PKR</td>\n      <td>Pakistani rupee</td>\n      <td>40000.0</td>\n      <td>Monthly</td>\n      <td>3468.0</td>\n      <td>40.0</td>\n      <td>There is a schedule and/or spec (made by me or...</td>\n      <td>Being tasked with non-development work;Distrac...</td>\n      <td>Less than once per month / Never</td>\n      <td>Office</td>\n      <td>Average</td>\n      <td>Yes, because I see value in code review</td>\n      <td>20.0</td>\n      <td>No, but I think we should</td>\n      <td>Not sure</td>\n      <td>I have some influence</td>\n      <td>C;C++;C#;Java;Kotlin;PHP;SQL</td>\n      <td>C#;Java;Kotlin;Objective-C</td>\n      <td>Firebase;MySQL;SQLite</td>\n      <td>Firebase;MySQL;Oracle;SQLite</td>\n      <td>Android;Windows</td>\n      <td>Android;Windows</td>\n      <td>ASP.NET</td>\n      <td>NaN</td>\n      <td>Unity 3D</td>\n      <td>Unity 3D</td>\n      <td>Android Studio;Visual Studio</td>\n      <td>Windows</td>\n      <td>Development;Testing;Production;Outside of work...</td>\n      <td>Not at all</td>\n      <td>NaN</td>\n      <td>No</td>\n      <td>Also Yes</td>\n      <td>No</td>\n      <td>WhatsApp</td>\n      <td>In real life (in person)</td>\n      <td>Screen Name</td>\n      <td>2016</td>\n      <td>Multiple times per day</td>\n      <td>Learn how to do things I didn’t necessarily lo...</td>\n      <td>More than 10 times per week</td>\n      <td>Stack Overflow was much faster</td>\n      <td>11-30 minutes</td>\n      <td>Yes</td>\n      <td>Daily or almost daily</td>\n      <td>Yes</td>\n      <td>Yes</td>\n      <td>Yes, definitely</td>\n      <td>A lot more welcome now than last year</td>\n      <td>Courses on technologies you're interested in</td>\n      <td>26.0</td>\n      <td>Man</td>\n      <td>No</td>\n      <td>Straight / Heterosexual</td>\n      <td>Middle Eastern</td>\n      <td>No</td>\n      <td>Too long</td>\n      <td>Neither easy nor difficult</td>\n    </tr>\n    <tr>\n      <th>119</th>\n      <td>I am a developer by profession</td>\n      <td>No</td>\n      <td>Less than once per year</td>\n      <td>The quality of OSS and closed source software ...</td>\n      <td>Employed full-time</td>\n      <td>Pakistan</td>\n      <td>No</td>\n      <td>Bachelor’s degree (BA, BS, B.Eng., etc.)</td>\n      <td>Computer science, computer engineering, or sof...</td>\n      <td>Taken a part-time in-person course in programm...</td>\n      <td>20 to 99 employees</td>\n      <td>Developer, back-end;Developer, mobile</td>\n      <td>10</td>\n      <td>24</td>\n      <td>6</td>\n      <td>Slightly dissatisfied</td>\n      <td>Slightly dissatisfied</td>\n      <td>Somewhat confident</td>\n      <td>No</td>\n      <td>Not sure</td>\n      <td>I’m not actively looking, but I am open to new...</td>\n      <td>3-4 years ago</td>\n      <td>NaN</td>\n      <td>No</td>\n      <td>Industry that I'd be working in;Languages, fra...</td>\n      <td>I was preparing for a job search</td>\n      <td>PKR</td>\n      <td>Pakistani rupee</td>\n      <td>NaN</td>\n      <td>Monthly</td>\n      <td>NaN</td>\n      <td>35.0</td>\n      <td>There's no schedule or spec; I work on what se...</td>\n      <td>Being tasked with non-development work;Not eno...</td>\n      <td>Less than once per month / Never</td>\n      <td>Office</td>\n      <td>A little above average</td>\n      <td>Yes, because I was told to do so</td>\n      <td>10.0</td>\n      <td>Yes, it's part of our process</td>\n      <td>The CTO, CIO, or other management purchase new...</td>\n      <td>I have little or no influence</td>\n      <td>C;C++;C#;HTML/CSS;Java;JavaScript;SQL</td>\n      <td>C;C++;C#;HTML/CSS;Java;JavaScript;Kotlin;Pytho...</td>\n      <td>Firebase;Microsoft SQL Server;MySQL;SQLite</td>\n      <td>Firebase;MongoDB;Microsoft SQL Server;MySQL;SQ...</td>\n      <td>Android;Slack;WordPress</td>\n      <td>Android;iOS;Slack;WordPress</td>\n      <td>ASP.NET</td>\n      <td>Angular/Angular.js;React.js</td>\n      <td>.NET</td>\n      <td>Node.js;React Native</td>\n      <td>Android Studio;Notepad++</td>\n      <td>Windows</td>\n      <td>Development</td>\n      <td>Not at all</td>\n      <td>Useful for decentralized currency (i.e., Bitcoin)</td>\n      <td>Yes</td>\n      <td>Also Yes</td>\n      <td>No</td>\n      <td>Facebook</td>\n      <td>In real life (in person)</td>\n      <td>Username</td>\n      <td>2010</td>\n      <td>Multiple times per day</td>\n      <td>Find answers to specific questions;Learn how t...</td>\n      <td>More than 10 times per week</td>\n      <td>Stack Overflow was much faster</td>\n      <td>31-60 minutes</td>\n      <td>Yes</td>\n      <td>Daily or almost daily</td>\n      <td>Yes</td>\n      <td>No, I've heard of them, but I am not part of a...</td>\n      <td>Yes, definitely</td>\n      <td>Just as welcome now as I felt last year</td>\n      <td>Tech articles written by other developers;Indu...</td>\n      <td>28.0</td>\n      <td>Man</td>\n      <td>No</td>\n      <td>NaN</td>\n      <td>NaN</td>\n      <td>Yes</td>\n      <td>Appropriate in length</td>\n      <td>Easy</td>\n    </tr>\n    <tr>\n      <th>298</th>\n      <td>I am a developer by profession</td>\n      <td>Yes</td>\n      <td>Less than once a month but more than once per ...</td>\n      <td>OSS is, on average, of LOWER quality than prop...</td>\n      <td>NaN</td>\n      <td>Pakistan</td>\n      <td>Yes, part-time</td>\n      <td>Bachelor’s degree (BA, BS, B.Eng., etc.)</td>\n      <td>Computer science, computer engineering, or sof...</td>\n      <td>Taken an online course in programming or softw...</td>\n      <td>NaN</td>\n      <td>NaN</td>\n      <td>4</td>\n      <td>17</td>\n      <td>Less than 1 year</td>\n      <td>Slightly dissatisfied</td>\n      <td>Slightly satisfied</td>\n      <td>NaN</td>\n      <td>NaN</td>\n      <td>NaN</td>\n      <td>I am actively looking for a job</td>\n      <td>NA - I am an independent contractor or self em...</td>\n      <td>Write any code</td>\n      <td>Yes</td>\n      <td>Office environment or company culture;Remote w...</td>\n      <td>I was preparing for a job search</td>\n      <td>PKR</td>\n      <td>Pakistani rupee</td>\n      <td>NaN</td>\n      <td>Monthly</td>\n      <td>NaN</td>\n      <td>35.0</td>\n      <td>There is a schedule and/or spec (made by me or...</td>\n      <td>Being tasked with non-development work;Meeting...</td>\n      <td>All or almost all the time (I'm full-time remote)</td>\n      <td>Office</td>\n      <td>Average</td>\n      <td>Yes, because I see value in code review</td>\n      <td>10.0</td>\n      <td>Yes, it's part of our process</td>\n      <td>Developers and management have nearly equal in...</td>\n      <td>I have a great deal of influence</td>\n      <td>HTML/CSS;JavaScript;PHP;SQL;Other(s):</td>\n      <td>JavaScript;SQL;TypeScript;Other(s):</td>\n      <td>MySQL;PostgreSQL</td>\n      <td>DynamoDB;Firebase;MongoDB;MySQL;PostgreSQL;Redis</td>\n      <td>AWS;Linux;Slack;Windows;WordPress</td>\n      <td>AWS;Docker;Heroku;Linux;Slack;Windows</td>\n      <td>ASP.NET;jQuery;React.js;Vue.js</td>\n      <td>React.js;Vue.js</td>\n      <td>Node.js</td>\n      <td>Node.js;React Native</td>\n      <td>PHPStorm;Sublime Text;Visual Studio</td>\n      <td>Windows</td>\n      <td>Development</td>\n      <td>NaN</td>\n      <td>NaN</td>\n      <td>Yes</td>\n      <td>Yes</td>\n      <td>No</td>\n      <td>LinkedIn</td>\n      <td>Neither</td>\n      <td>Username</td>\n      <td>2017</td>\n      <td>A few times per week</td>\n      <td>Find answers to specific questions;Learn how t...</td>\n      <td>1-2 times per week</td>\n      <td>Stack Overflow was much faster</td>\n      <td>31-60 minutes</td>\n      <td>Yes</td>\n      <td>Less than once per month or monthly</td>\n      <td>No, I knew that Stack Overflow had a job board...</td>\n      <td>No, I've heard of them, but I am not part of a...</td>\n      <td>Yes, definitely</td>\n      <td>Somewhat more welcome now than last year</td>\n      <td>Tech articles written by other developers;Indu...</td>\n      <td>23.0</td>\n      <td>Man</td>\n      <td>No</td>\n      <td>NaN</td>\n      <td>NaN</td>\n      <td>No</td>\n      <td>Too long</td>\n      <td>Neither easy nor difficult</td>\n    </tr>\n    <tr>\n      <th>299</th>\n      <td>I am a developer by profession</td>\n      <td>Yes</td>\n      <td>Less than once per year</td>\n      <td>The quality of OSS and closed source software ...</td>\n      <td>Employed part-time</td>\n      <td>Pakistan</td>\n      <td>No</td>\n      <td>Bachelor’s degree (BA, BS, B.Eng., etc.)</td>\n      <td>Computer science, computer engineering, or sof...</td>\n      <td>Taken an online course in programming or softw...</td>\n      <td>10 to 19 employees</td>\n      <td>Academic researcher;Data scientist or machine ...</td>\n      <td>19</td>\n      <td>Younger than 5 years</td>\n      <td>6</td>\n      <td>Slightly dissatisfied</td>\n      <td>Slightly dissatisfied</td>\n      <td>Very confident</td>\n      <td>No</td>\n      <td>Not sure</td>\n      <td>I am not interested in new job opportunities</td>\n      <td>Less than a year ago</td>\n      <td>NaN</td>\n      <td>Yes</td>\n      <td>Industry that I'd be working in;Languages, fra...</td>\n      <td>Something else changed (education, award, medi...</td>\n      <td>PKR</td>\n      <td>Pakistani rupee</td>\n      <td>0.0</td>\n      <td>NaN</td>\n      <td>NaN</td>\n      <td>NaN</td>\n      <td>There's no schedule or spec; I work on what se...</td>\n      <td>Distracting work environment;Non-work commitme...</td>\n      <td>More than half, but not all, the time</td>\n      <td>Other place, such as a coworking space or cafe</td>\n      <td>Far below average</td>\n      <td>No</td>\n      <td>NaN</td>\n      <td>NaN</td>\n      <td>Not sure</td>\n      <td>I have little or no influence</td>\n      <td>Assembly;C;C++;Java;Python;SQL</td>\n      <td>Assembly;C;C++;Python</td>\n      <td>Microsoft SQL Server</td>\n      <td>NaN</td>\n      <td>Android;Arduino;Linux;Raspberry Pi;Windows</td>\n      <td>Arduino;Linux;Raspberry Pi;Windows</td>\n      <td>NaN</td>\n      <td>NaN</td>\n      <td>TensorFlow;Other(s):</td>\n      <td>Other(s):</td>\n      <td>Notepad++;PyCharm</td>\n      <td>Windows</td>\n      <td>I do not use containers</td>\n      <td>Not at all</td>\n      <td>A passing fad</td>\n      <td>Yes</td>\n      <td>Yes</td>\n      <td>Yes</td>\n      <td>Facebook</td>\n      <td>In real life (in person)</td>\n      <td>Username</td>\n      <td>2011</td>\n      <td>Daily or almost daily</td>\n      <td>Find answers to specific questions</td>\n      <td>3-5 times per week</td>\n      <td>NaN</td>\n      <td>NaN</td>\n      <td>Yes</td>\n      <td>Less than once per month or monthly</td>\n      <td>No, I knew that Stack Overflow had a job board...</td>\n      <td>No, and I don't know what those are</td>\n      <td>No, not at all</td>\n      <td>Somewhat more welcome now than last year</td>\n      <td>NaN</td>\n      <td>25.0</td>\n      <td>Man</td>\n      <td>No</td>\n      <td>Straight / Heterosexual</td>\n      <td>South Asian</td>\n      <td>Yes</td>\n      <td>Appropriate in length</td>\n      <td>Easy</td>\n    </tr>\n    <tr>\n      <th>311</th>\n      <td>I am a developer by profession</td>\n      <td>No</td>\n      <td>Never</td>\n      <td>OSS is, on average, of HIGHER quality than pro...</td>\n      <td>Employed full-time</td>\n      <td>Pakistan</td>\n      <td>No</td>\n      <td>Bachelor’s degree (BA, BS, B.Eng., etc.)</td>\n      <td>Computer science, computer engineering, or sof...</td>\n      <td>Taken an online course in programming or softw...</td>\n      <td>20 to 99 employees</td>\n      <td>Academic researcher;Database administrator;Dev...</td>\n      <td>5</td>\n      <td>18</td>\n      <td>Less than 1 year</td>\n      <td>Neither satisfied nor dissatisfied</td>\n      <td>Slightly dissatisfied</td>\n      <td>Somewhat confident</td>\n      <td>No</td>\n      <td>Not sure</td>\n      <td>I am actively looking for a job</td>\n      <td>Less than a year ago</td>\n      <td>Write any code;Solve a brain-teaser style puzzle</td>\n      <td>No</td>\n      <td>Financial performance or funding status of the...</td>\n      <td>I was preparing for a job search</td>\n      <td>PKR</td>\n      <td>Pakistani rupee</td>\n      <td>360000.0</td>\n      <td>Yearly</td>\n      <td>2600.0</td>\n      <td>48.0</td>\n      <td>There is a schedule and/or spec (made by me or...</td>\n      <td>Being tasked with non-development work;Lack of...</td>\n      <td>About half the time</td>\n      <td>Office</td>\n      <td>A little above average</td>\n      <td>Yes, because I see value in code review</td>\n      <td>5.0</td>\n      <td>Yes, it's not part of our process but the deve...</td>\n      <td>Developers typically have the most influence o...</td>\n      <td>I have some influence</td>\n      <td>Assembly;C;C++;C#;HTML/CSS;Java;Python;Scala;SQL</td>\n      <td>C++;Java;Python;SQL</td>\n      <td>MongoDB;Microsoft SQL Server;MySQL;SQLite</td>\n      <td>Cassandra;Firebase;MongoDB;Microsoft SQL Serve...</td>\n      <td>Arduino;IBM Cloud or Watson;Linux;Raspberry Pi...</td>\n      <td>Android;Arduino;AWS;Docker;Google Cloud Platfo...</td>\n      <td>ASP.NET;Django;Express;Spring</td>\n      <td>Angular/Angular.js;ASP.NET;Django;Express;jQue...</td>\n      <td>.NET;Node.js</td>\n      <td>Apache Spark;Hadoop;Node.js</td>\n      <td>NetBeans;Notepad++;Visual Studio Code</td>\n      <td>Windows</td>\n      <td>Development;Testing</td>\n      <td>Non-currency applications of blockchain</td>\n      <td>Useful across many domains and could change ma...</td>\n      <td>Yes</td>\n      <td>Yes</td>\n      <td>No</td>\n      <td>LinkedIn</td>\n      <td>Online</td>\n      <td>Login</td>\n      <td>2014</td>\n      <td>Daily or almost daily</td>\n      <td>Find answers to specific questions;Get a sense...</td>\n      <td>More than 10 times per week</td>\n      <td>Stack Overflow was slightly faster</td>\n      <td>0-10 minutes</td>\n      <td>Yes</td>\n      <td>Less than once per month or monthly</td>\n      <td>No, I knew that Stack Overflow had a job board...</td>\n      <td>No, and I don't know what those are</td>\n      <td>Yes, somewhat</td>\n      <td>Just as welcome now as I felt last year</td>\n      <td>Industry news about technologies you're intere...</td>\n      <td>24.0</td>\n      <td>Man</td>\n      <td>No</td>\n      <td>Straight / Heterosexual</td>\n      <td>South Asian</td>\n      <td>Yes</td>\n      <td>Appropriate in length</td>\n      <td>Neither easy nor difficult</td>\n    </tr>\n    <tr>\n      <th>...</th>\n      <td>...</td>\n      <td>...</td>\n      <td>...</td>\n      <td>...</td>\n      <td>...</td>\n      <td>...</td>\n      <td>...</td>\n      <td>...</td>\n      <td>...</td>\n      <td>...</td>\n      <td>...</td>\n      <td>...</td>\n      <td>...</td>\n      <td>...</td>\n      <td>...</td>\n      <td>...</td>\n      <td>...</td>\n      <td>...</td>\n      <td>...</td>\n      <td>...</td>\n      <td>...</td>\n      <td>...</td>\n      <td>...</td>\n      <td>...</td>\n      <td>...</td>\n      <td>...</td>\n      <td>...</td>\n      <td>...</td>\n      <td>...</td>\n      <td>...</td>\n      <td>...</td>\n      <td>...</td>\n      <td>...</td>\n      <td>...</td>\n      <td>...</td>\n      <td>...</td>\n      <td>...</td>\n      <td>...</td>\n      <td>...</td>\n      <td>...</td>\n      <td>...</td>\n      <td>...</td>\n      <td>...</td>\n      <td>...</td>\n      <td>...</td>\n      <td>...</td>\n      <td>...</td>\n      <td>...</td>\n      <td>...</td>\n      <td>...</td>\n      <td>...</td>\n      <td>...</td>\n      <td>...</td>\n      <td>...</td>\n      <td>...</td>\n      <td>...</td>\n      <td>...</td>\n      <td>...</td>\n      <td>...</td>\n      <td>...</td>\n      <td>...</td>\n      <td>...</td>\n      <td>...</td>\n      <td>...</td>\n      <td>...</td>\n      <td>...</td>\n      <td>...</td>\n      <td>...</td>\n      <td>...</td>\n      <td>...</td>\n      <td>...</td>\n      <td>...</td>\n      <td>...</td>\n      <td>...</td>\n      <td>...</td>\n      <td>...</td>\n      <td>...</td>\n      <td>...</td>\n      <td>...</td>\n      <td>...</td>\n      <td>...</td>\n      <td>...</td>\n      <td>...</td>\n      <td>...</td>\n    </tr>\n    <tr>\n      <th>88862</th>\n      <td>I am a student who is learning to code</td>\n      <td>Yes</td>\n      <td>Less than once per year</td>\n      <td>OSS is, on average, of LOWER quality than prop...</td>\n      <td>Independent contractor, freelancer, or self-em...</td>\n      <td>Pakistan</td>\n      <td>Yes, full-time</td>\n      <td>Bachelor’s degree (BA, BS, B.Eng., etc.)</td>\n      <td>Computer science, computer engineering, or sof...</td>\n      <td>Taken an online course in programming or softw...</td>\n      <td>NaN</td>\n      <td>Developer, back-end;Developer, embedded applic...</td>\n      <td>3</td>\n      <td>18</td>\n      <td>NaN</td>\n      <td>NaN</td>\n      <td>NaN</td>\n      <td>NaN</td>\n      <td>NaN</td>\n      <td>NaN</td>\n      <td>I’m not actively looking, but I am open to new...</td>\n      <td>Less than a year ago</td>\n      <td>NaN</td>\n      <td>NaN</td>\n      <td>Industry that I'd be working in;Financial perf...</td>\n      <td>Re-entry into the workforce</td>\n      <td>NaN</td>\n      <td>NaN</td>\n      <td>NaN</td>\n      <td>NaN</td>\n      <td>NaN</td>\n      <td>NaN</td>\n      <td>NaN</td>\n      <td>NaN</td>\n      <td>NaN</td>\n      <td>NaN</td>\n      <td>NaN</td>\n      <td>NaN</td>\n      <td>NaN</td>\n      <td>NaN</td>\n      <td>NaN</td>\n      <td>NaN</td>\n      <td>Java</td>\n      <td>Java;JavaScript;Swift;Other(s):</td>\n      <td>Firebase</td>\n      <td>Firebase;MongoDB;MySQL;Oracle;SQLite</td>\n      <td>Android;Arduino</td>\n      <td>Android;Arduino;iOS;MacOS</td>\n      <td>NaN</td>\n      <td>React.js</td>\n      <td>NaN</td>\n      <td>Node.js;React Native</td>\n      <td>Android Studio;Xcode</td>\n      <td>MacOS</td>\n      <td>Development</td>\n      <td>NaN</td>\n      <td>Useful across many domains and could change ma...</td>\n      <td>Yes</td>\n      <td>Yes</td>\n      <td>What?</td>\n      <td>WhatsApp</td>\n      <td>Online</td>\n      <td>UserID</td>\n      <td>2016</td>\n      <td>Multiple times per day</td>\n      <td>Find answers to specific questions</td>\n      <td>More than 10 times per week</td>\n      <td>Stack Overflow was slightly faster</td>\n      <td>31-60 minutes</td>\n      <td>Yes</td>\n      <td>A few times per month or weekly</td>\n      <td>No, I knew that Stack Overflow had a job board...</td>\n      <td>No, I've heard of them, but I am not part of a...</td>\n      <td>Yes, definitely</td>\n      <td>Somewhat more welcome now than last year</td>\n      <td>Tech articles written by other developers</td>\n      <td>21.0</td>\n      <td>Man</td>\n      <td>No</td>\n      <td>Bisexual</td>\n      <td>NaN</td>\n      <td>Yes</td>\n      <td>Too long</td>\n      <td>Difficult</td>\n    </tr>\n    <tr>\n      <th>5439</th>\n      <td>NaN</td>\n      <td>Yes</td>\n      <td>Less than once per year</td>\n      <td>The quality of OSS and closed source software ...</td>\n      <td>Not employed, but looking for work</td>\n      <td>Pakistan</td>\n      <td>Yes, full-time</td>\n      <td>Bachelor’s degree (BA, BS, B.Eng., etc.)</td>\n      <td>Information systems, information technology, o...</td>\n      <td>Taken an online course in programming or softw...</td>\n      <td>NaN</td>\n      <td>Developer, full-stack</td>\n      <td>2</td>\n      <td>24</td>\n      <td>2</td>\n      <td>NaN</td>\n      <td>NaN</td>\n      <td>NaN</td>\n      <td>NaN</td>\n      <td>NaN</td>\n      <td>NaN</td>\n      <td>NaN</td>\n      <td>NaN</td>\n      <td>NaN</td>\n      <td>NaN</td>\n      <td>NaN</td>\n      <td>NaN</td>\n      <td>NaN</td>\n      <td>NaN</td>\n      <td>NaN</td>\n      <td>NaN</td>\n      <td>NaN</td>\n      <td>NaN</td>\n      <td>NaN</td>\n      <td>NaN</td>\n      <td>NaN</td>\n      <td>NaN</td>\n      <td>NaN</td>\n      <td>NaN</td>\n      <td>NaN</td>\n      <td>NaN</td>\n      <td>NaN</td>\n      <td>NaN</td>\n      <td>C++;HTML/CSS;Java;JavaScript;Objective-C;PHP</td>\n      <td>NaN</td>\n      <td>MySQL</td>\n      <td>NaN</td>\n      <td>Android;IBM Cloud or Watson;iOS;MacOS;Windows;...</td>\n      <td>NaN</td>\n      <td>Express</td>\n      <td>NaN</td>\n      <td>Unity 3D</td>\n      <td>Android Studio</td>\n      <td>Windows</td>\n      <td>Production</td>\n      <td>NaN</td>\n      <td>A passing fad</td>\n      <td>Yes</td>\n      <td>Yes</td>\n      <td>Yes</td>\n      <td>Instagram</td>\n      <td>Online</td>\n      <td>UserID</td>\n      <td>2018</td>\n      <td>I have never visited Stack Overflow (before to...</td>\n      <td>Meet other people with similar skills or inter...</td>\n      <td>Less than once per week</td>\n      <td>Stack Overflow was much faster</td>\n      <td>31-60 minutes</td>\n      <td>NaN</td>\n      <td>NaN</td>\n      <td>No, I didn't know that Stack Overflow had a jo...</td>\n      <td>No, I've heard of them, but I am not part of a...</td>\n      <td>No, not at all</td>\n      <td>A lot more welcome now than last year</td>\n      <td>Industry news about technologies you're intere...</td>\n      <td>24.0</td>\n      <td>Woman</td>\n      <td>Yes</td>\n      <td>NaN</td>\n      <td>NaN</td>\n      <td>No</td>\n      <td>Too short</td>\n      <td>Easy</td>\n    </tr>\n    <tr>\n      <th>39117</th>\n      <td>NaN</td>\n      <td>Yes</td>\n      <td>Never</td>\n      <td>OSS is, on average, of HIGHER quality than pro...</td>\n      <td>Not employed, but looking for work</td>\n      <td>Pakistan</td>\n      <td>Yes, part-time</td>\n      <td>Bachelor’s degree (BA, BS, B.Eng., etc.)</td>\n      <td>Web development or web design</td>\n      <td>Taken an online course in programming or softw...</td>\n      <td>NaN</td>\n      <td>Academic researcher;Data or business analyst;D...</td>\n      <td>4</td>\n      <td>18</td>\n      <td>2</td>\n      <td>NaN</td>\n      <td>NaN</td>\n      <td>NaN</td>\n      <td>NaN</td>\n      <td>NaN</td>\n      <td>NaN</td>\n      <td>NaN</td>\n      <td>NaN</td>\n      <td>NaN</td>\n      <td>NaN</td>\n      <td>NaN</td>\n      <td>NaN</td>\n      <td>NaN</td>\n      <td>NaN</td>\n      <td>NaN</td>\n      <td>NaN</td>\n      <td>NaN</td>\n      <td>NaN</td>\n      <td>NaN</td>\n      <td>NaN</td>\n      <td>NaN</td>\n      <td>NaN</td>\n      <td>NaN</td>\n      <td>NaN</td>\n      <td>NaN</td>\n      <td>NaN</td>\n      <td>NaN</td>\n      <td>C;C++;C#;HTML/CSS;Java;JavaScript;SQL</td>\n      <td>C#;HTML/CSS;Java;JavaScript;PHP;SQL</td>\n      <td>NaN</td>\n      <td>NaN</td>\n      <td>Android</td>\n      <td>Android</td>\n      <td>ASP.NET</td>\n      <td>NaN</td>\n      <td>.NET;Xamarin</td>\n      <td>.NET;Xamarin</td>\n      <td>Android Studio;Notepad++;Sublime Text;Visual S...</td>\n      <td>Windows</td>\n      <td>Development;Testing;Production;Outside of work...</td>\n      <td>NaN</td>\n      <td>NaN</td>\n      <td>Yes</td>\n      <td>Yes</td>\n      <td>No</td>\n      <td>WhatsApp</td>\n      <td>In real life (in person)</td>\n      <td>Username</td>\n      <td>2015</td>\n      <td>Daily or almost daily</td>\n      <td>Find answers to specific questions;Learn how t...</td>\n      <td>Less than once per week</td>\n      <td>Stack Overflow was much faster</td>\n      <td>31-60 minutes</td>\n      <td>Yes</td>\n      <td>Daily or almost daily</td>\n      <td>No, I didn't know that Stack Overflow had a jo...</td>\n      <td>No, and I don't know what those are</td>\n      <td>Yes, somewhat</td>\n      <td>Just as welcome now as I felt last year</td>\n      <td>Tech articles written by other developers;Indu...</td>\n      <td>22.0</td>\n      <td>Man</td>\n      <td>No</td>\n      <td>Bisexual;Straight / Heterosexual</td>\n      <td>East Asian</td>\n      <td>Yes</td>\n      <td>Appropriate in length</td>\n      <td>Easy</td>\n    </tr>\n    <tr>\n      <th>60066</th>\n      <td>NaN</td>\n      <td>Yes</td>\n      <td>Never</td>\n      <td>The quality of OSS and closed source software ...</td>\n      <td>Not employed, and not looking for work</td>\n      <td>Pakistan</td>\n      <td>Yes, full-time</td>\n      <td>NaN</td>\n      <td>I never declared a major</td>\n      <td>Taken an online course in programming or softw...</td>\n      <td>NaN</td>\n      <td>NaN</td>\n      <td>4</td>\n      <td>16</td>\n      <td>NaN</td>\n      <td>NaN</td>\n      <td>NaN</td>\n      <td>NaN</td>\n      <td>NaN</td>\n      <td>NaN</td>\n      <td>NaN</td>\n      <td>NaN</td>\n      <td>NaN</td>\n      <td>NaN</td>\n      <td>NaN</td>\n      <td>NaN</td>\n      <td>NaN</td>\n      <td>NaN</td>\n      <td>NaN</td>\n      <td>NaN</td>\n      <td>NaN</td>\n      <td>NaN</td>\n      <td>NaN</td>\n      <td>NaN</td>\n      <td>NaN</td>\n      <td>NaN</td>\n      <td>NaN</td>\n      <td>NaN</td>\n      <td>NaN</td>\n      <td>NaN</td>\n      <td>NaN</td>\n      <td>NaN</td>\n      <td>Assembly;C++;C#;HTML/CSS;Java;PHP;Python;SQL</td>\n      <td>C++;C#;HTML/CSS;Java;JavaScript;PHP;Python;SQL</td>\n      <td>Firebase;MySQL;SQLite</td>\n      <td>Firebase;MongoDB;MySQL;SQLite</td>\n      <td>Android;Windows</td>\n      <td>Android;Docker;Google Cloud Platform;IBM Cloud...</td>\n      <td>NaN</td>\n      <td>Angular/Angular.js;Django;React.js;Spring</td>\n      <td>Unity 3D</td>\n      <td>Flutter;Node.js;Unity 3D</td>\n      <td>Android Studio;NetBeans;PyCharm;Visual Studio ...</td>\n      <td>Windows</td>\n      <td>I do not use containers</td>\n      <td>NaN</td>\n      <td>Useful across many domains and could change ma...</td>\n      <td>Yes</td>\n      <td>Yes</td>\n      <td>What?</td>\n      <td>YouTube</td>\n      <td>In real life (in person)</td>\n      <td>Username</td>\n      <td>2017</td>\n      <td>A few times per week</td>\n      <td>Find answers to specific questions;Meet other ...</td>\n      <td>3-5 times per week</td>\n      <td>Stack Overflow was slightly faster</td>\n      <td>11-30 minutes</td>\n      <td>Yes</td>\n      <td>Less than once per month or monthly</td>\n      <td>No, I knew that Stack Overflow had a job board...</td>\n      <td>No, and I don't know what those are</td>\n      <td>Yes, definitely</td>\n      <td>Just as welcome now as I felt last year</td>\n      <td>Tech articles written by other developers;Cour...</td>\n      <td>20.0</td>\n      <td>Man</td>\n      <td>No</td>\n      <td>Straight / Heterosexual</td>\n      <td>South Asian</td>\n      <td>Yes</td>\n      <td>Appropriate in length</td>\n      <td>Easy</td>\n    </tr>\n    <tr>\n      <th>88182</th>\n      <td>NaN</td>\n      <td>Yes</td>\n      <td>Once a month or more often</td>\n      <td>OSS is, on average, of HIGHER quality than pro...</td>\n      <td>Employed part-time</td>\n      <td>Pakistan</td>\n      <td>NaN</td>\n      <td>Secondary school (e.g. American high school, G...</td>\n      <td>NaN</td>\n      <td>Taken an online course in programming or softw...</td>\n      <td>10 to 19 employees</td>\n      <td>Academic researcher</td>\n      <td>1</td>\n      <td>Younger than 5 years</td>\n      <td>Less than 1 year</td>\n      <td>NaN</td>\n      <td>NaN</td>\n      <td>Very confident</td>\n      <td>Not sure</td>\n      <td>Yes</td>\n      <td>NaN</td>\n      <td>NaN</td>\n      <td>NaN</td>\n      <td>NaN</td>\n      <td>NaN</td>\n      <td>NaN</td>\n      <td>NaN</td>\n      <td>NaN</td>\n      <td>NaN</td>\n      <td>NaN</td>\n      <td>NaN</td>\n      <td>NaN</td>\n      <td>NaN</td>\n      <td>NaN</td>\n      <td>NaN</td>\n      <td>NaN</td>\n      <td>NaN</td>\n      <td>NaN</td>\n      <td>NaN</td>\n      <td>NaN</td>\n      <td>NaN</td>\n      <td>NaN</td>\n      <td>HTML/CSS;Java;JavaScript</td>\n      <td>NaN</td>\n      <td>NaN</td>\n      <td>NaN</td>\n      <td>Google Cloud Platform</td>\n      <td>NaN</td>\n      <td>Other(s):</td>\n      <td>NaN</td>\n      <td>Other(s):</td>\n      <td>NaN</td>\n      <td>Android Studio</td>\n      <td>Windows</td>\n      <td>Development</td>\n      <td>NaN</td>\n      <td>Useful across many domains and could change ma...</td>\n      <td>Yes</td>\n      <td>Also Yes</td>\n      <td>What?</td>\n      <td>Twitter</td>\n      <td>Neither</td>\n      <td>Username</td>\n      <td>NaN</td>\n      <td>I have never visited Stack Overflow (before to...</td>\n      <td>Get a sense of belonging to the developer comm...</td>\n      <td>Less than once per week</td>\n      <td>The other resource was slightly faster</td>\n      <td>60+ minutes</td>\n      <td>NaN</td>\n      <td>NaN</td>\n      <td>No, I didn't know that Stack Overflow had a jo...</td>\n      <td>No, and I don't know what those are</td>\n      <td>Neutral</td>\n      <td>Not applicable - I did not use Stack Overflow ...</td>\n      <td>Courses on technologies you're interested in</td>\n      <td>NaN</td>\n      <td>Man</td>\n      <td>No</td>\n      <td>Straight / Heterosexual</td>\n      <td>NaN</td>\n      <td>Yes</td>\n      <td>Too short</td>\n      <td>Neither easy nor difficult</td>\n    </tr>\n  </tbody>\n</table>\n<p>923 rows × 84 columns</p>\n</div>"
     },
     "metadata": {},
     "execution_count": 70
    }
   ],
   "source": [
    "\n",
    "country_group.get_group('Pakistan')"
   ]
  },
  {
   "cell_type": "code",
   "execution_count": 85,
   "metadata": {},
   "outputs": [
    {
     "output_type": "execute_result",
     "data": {
      "text/plain": [
       "WeChat 微信                   403\n",
       "YouTube                      53\n",
       "Weibo 新浪微博                   42\n",
       "Twitter                      27\n",
       "I don't use social media     27\n",
       "Reddit                       12\n",
       "LinkedIn                     11\n",
       "Facebook                      8\n",
       "Youku Tudou 优酷                7\n",
       "Instagram                     7\n",
       "WhatsApp                      3\n",
       "VK ВКонта́кте                 1\n",
       "Name: SocialMedia, dtype: int64"
      ]
     },
     "metadata": {},
     "execution_count": 85
    }
   ],
   "source": [
    "# Creating a filter for the country 'China'\n",
    "filt = df['Country'] == 'China'\n",
    "# Extract social media usage country wide using filter \n",
    "df.loc[filt]['SocialMedia'].value_counts()\n"
   ]
  },
  {
   "cell_type": "code",
   "execution_count": 88,
   "metadata": {},
   "outputs": [
    {
     "output_type": "execute_result",
     "data": {
      "text/plain": [
       "Country              SocialMedia             \n",
       "Afghanistan          Facebook                     15\n",
       "                     YouTube                       9\n",
       "                     I don't use social media      6\n",
       "                     WhatsApp                      4\n",
       "                     Instagram                     1\n",
       "                     LinkedIn                      1\n",
       "                     Twitter                       1\n",
       "Albania              WhatsApp                     18\n",
       "                     Facebook                     16\n",
       "                     Instagram                    13\n",
       "                     YouTube                      10\n",
       "                     Twitter                       8\n",
       "                     LinkedIn                      7\n",
       "                     Reddit                        6\n",
       "                     I don't use social media      4\n",
       "                     Snapchat                      1\n",
       "                     WeChat 微信                     1\n",
       "Algeria              YouTube                      42\n",
       "                     Facebook                     41\n",
       "                     Twitter                      14\n",
       "                     LinkedIn                      9\n",
       "                     I don't use social media      7\n",
       "                     Instagram                     7\n",
       "                     Reddit                        2\n",
       "                     WhatsApp                      2\n",
       "Andorra              Facebook                      2\n",
       "                     I don't use social media      2\n",
       "                     Reddit                        1\n",
       "                     Snapchat                      1\n",
       "                     YouTube                       1\n",
       "Angola               Twitter                       2\n",
       "                     Facebook                      1\n",
       "                     YouTube                       1\n",
       "Antigua and Barbuda  YouTube                       2\n",
       "                     Facebook                      1\n",
       "                     Instagram                     1\n",
       "                     Twitter                       1\n",
       "                     VK ВКонта́кте                 1\n",
       "Argentina            WhatsApp                    202\n",
       "                     Twitter                      80\n",
       "                     YouTube                      62\n",
       "                     Instagram                    53\n",
       "                     Reddit                       50\n",
       "                     Facebook                     45\n",
       "                     I don't use social media     22\n",
       "                     LinkedIn                     16\n",
       "Armenia              Facebook                     38\n",
       "                     YouTube                      23\n",
       "                     LinkedIn                      5\n",
       "                     Instagram                     3\n",
       "Name: SocialMedia, dtype: int64"
      ]
     },
     "metadata": {},
     "execution_count": 88
    }
   ],
   "source": [
    "# Use of Social Media, Grouped by country\n",
    "country_group['SocialMedia'].value_counts().head(50)"
   ]
  },
  {
   "cell_type": "code",
   "execution_count": 96,
   "metadata": {},
   "outputs": [
    {
     "output_type": "execute_result",
     "data": {
      "text/plain": [
       "SocialMedia\n",
       "WeChat 微信                   0.670549\n",
       "YouTube                     0.088186\n",
       "Weibo 新浪微博                  0.069884\n",
       "I don't use social media    0.044925\n",
       "Twitter                     0.044925\n",
       "Reddit                      0.019967\n",
       "LinkedIn                    0.018303\n",
       "Facebook                    0.013311\n",
       "Instagram                   0.011647\n",
       "Youku Tudou 优酷              0.011647\n",
       "WhatsApp                    0.004992\n",
       "VK ВКонта́кте               0.001664\n",
       "Name: SocialMedia, dtype: float64"
      ]
     },
     "metadata": {},
     "execution_count": 96
    }
   ],
   "source": [
    "country_group['SocialMedia'].value_counts(normalize=True).loc['China']"
   ]
  },
  {
   "cell_type": "code",
   "execution_count": 101,
   "metadata": {},
   "outputs": [
    {
     "output_type": "execute_result",
     "data": {
      "text/plain": [
       "63016.0"
      ]
     },
     "metadata": {},
     "execution_count": 101
    }
   ],
   "source": [
    "# Salaries by group by country\n",
    "country_group['ConvertedComp'].median().loc['Germany']"
   ]
  },
  {
   "cell_type": "code",
   "execution_count": 106,
   "metadata": {},
   "outputs": [
    {
     "output_type": "execute_result",
     "data": {
      "text/plain": [
       "median     68705.000000\n",
       "mean      134018.564909\n",
       "Name: Canada, dtype: float64"
      ]
     },
     "metadata": {},
     "execution_count": 106
    }
   ],
   "source": [
    "# Median and Mean for Salaries of people from Canada\n",
    "country_group['ConvertedComp'].agg(['median','mean']).loc['Canada']"
   ]
  },
  {
   "cell_type": "code",
   "execution_count": 118,
   "metadata": {},
   "outputs": [
    {
     "output_type": "execute_result",
     "data": {
      "text/plain": [
       "251"
      ]
     },
     "metadata": {},
     "execution_count": 118
    }
   ],
   "source": [
    "# Creating a filter for the people who lives in Pakistan\n",
    "filt = df['Country'] == 'Pakistan'\n",
    "df.loc[filt]['LanguageWorkedWith'].str.contains('Python').sum()"
   ]
  },
  {
   "cell_type": "code",
   "execution_count": 121,
   "metadata": {},
   "outputs": [
    {
     "output_type": "error",
     "ename": "AttributeError",
     "evalue": "'SeriesGroupBy' object has no attribute 'str'",
     "traceback": [
      "\u001b[1;31m---------------------------------------------------------------------------\u001b[0m",
      "\u001b[1;31mAttributeError\u001b[0m                            Traceback (most recent call last)",
      "\u001b[1;32m<ipython-input-121-f7ba1f4b2daa>\u001b[0m in \u001b[0;36m<module>\u001b[1;34m\u001b[0m\n\u001b[1;32m----> 1\u001b[1;33m \u001b[0mcountry_group\u001b[0m\u001b[1;33m[\u001b[0m\u001b[1;34m'LanguageWorkedWith'\u001b[0m\u001b[1;33m]\u001b[0m\u001b[1;33m.\u001b[0m\u001b[0mstr\u001b[0m\u001b[1;33m.\u001b[0m\u001b[0mcontains\u001b[0m\u001b[1;33m(\u001b[0m\u001b[1;34m'Python'\u001b[0m\u001b[1;33m)\u001b[0m\u001b[1;33m.\u001b[0m\u001b[0msum\u001b[0m\u001b[1;33m(\u001b[0m\u001b[1;33m)\u001b[0m\u001b[1;33m\u001b[0m\u001b[1;33m\u001b[0m\u001b[0m\n\u001b[0m",
      "\u001b[1;32m~\\Anaconda3\\lib\\site-packages\\pandas\\core\\groupby\\groupby.py\u001b[0m in \u001b[0;36m__getattr__\u001b[1;34m(self, attr)\u001b[0m\n\u001b[0;32m    578\u001b[0m \u001b[1;33m\u001b[0m\u001b[0m\n\u001b[0;32m    579\u001b[0m         raise AttributeError(\n\u001b[1;32m--> 580\u001b[1;33m             \u001b[1;34mf\"'{type(self).__name__}' object has no attribute '{attr}'\"\u001b[0m\u001b[1;33m\u001b[0m\u001b[1;33m\u001b[0m\u001b[0m\n\u001b[0m\u001b[0;32m    581\u001b[0m         )\n\u001b[0;32m    582\u001b[0m \u001b[1;33m\u001b[0m\u001b[0m\n",
      "\u001b[1;31mAttributeError\u001b[0m: 'SeriesGroupBy' object has no attribute 'str'"
     ]
    }
   ],
   "source": [
    "# This does not work as the - See Next Cell \n",
    "country_group['LanguageWorkedWith'].str.contains('Python').sum()"
   ]
  },
  {
   "cell_type": "code",
   "execution_count": 123,
   "metadata": {},
   "outputs": [
    {
     "output_type": "execute_result",
     "data": {
      "text/plain": [
       "Country\n",
       "Afghanistan                              8\n",
       "Albania                                 23\n",
       "Algeria                                 40\n",
       "Andorra                                  0\n",
       "Angola                                   2\n",
       "                                        ..\n",
       "Venezuela, Bolivarian Republic of...    28\n",
       "Viet Nam                                78\n",
       "Yemen                                    3\n",
       "Zambia                                   4\n",
       "Zimbabwe                                14\n",
       "Name: LanguageWorkedWith, Length: 179, dtype: int64"
      ]
     },
     "metadata": {},
     "execution_count": 123
    }
   ],
   "source": [
    "# See People who knows Python group by countries\n",
    "country_group['LanguageWorkedWith'].apply(lambda x : x.str.contains('Python').sum())\n"
   ]
  },
  {
   "cell_type": "code",
   "execution_count": 125,
   "metadata": {},
   "outputs": [
    {
     "output_type": "execute_result",
     "data": {
      "text/plain": [
       "United States            20949\n",
       "India                     9061\n",
       "Germany                   5866\n",
       "United Kingdom            5737\n",
       "Canada                    3395\n",
       "                         ...  \n",
       "Dominica                     1\n",
       "Brunei Darussalam            1\n",
       "Chad                         1\n",
       "Timor-Leste                  1\n",
       "Sao Tome and Principe        1\n",
       "Name: Country, Length: 179, dtype: int64"
      ]
     },
     "metadata": {},
     "execution_count": 125
    }
   ],
   "source": [
    "# Extracting total numbers of reponsdents country wise\n",
    "country_respondents = df['Country'].value_counts()\n",
    "country_respondents"
   ]
  },
  {
   "cell_type": "code",
   "execution_count": 128,
   "metadata": {},
   "outputs": [
    {
     "output_type": "execute_result",
     "data": {
      "text/plain": [
       "Country\n",
       "Afghanistan                              8\n",
       "Albania                                 23\n",
       "Algeria                                 40\n",
       "Andorra                                  0\n",
       "Angola                                   2\n",
       "                                        ..\n",
       "Venezuela, Bolivarian Republic of...    28\n",
       "Viet Nam                                78\n",
       "Yemen                                    3\n",
       "Zambia                                   4\n",
       "Zimbabwe                                14\n",
       "Name: LanguageWorkedWith, Length: 179, dtype: int64"
      ]
     },
     "metadata": {},
     "execution_count": 128
    }
   ],
   "source": [
    "# Extracting total numbers of reponsdents who knows Python country wise\n",
    "country_uses_python = country_group['LanguageWorkedWith'].apply(lambda x : x.str.contains('Python').sum())\n",
    "country_uses_python\n"
   ]
  },
  {
   "cell_type": "code",
   "execution_count": 133,
   "metadata": {},
   "outputs": [],
   "source": [
    "# Creating a new data frame (python_df) Using country_respondents and country_uses_python\n",
    "python_df = pd.concat([country_respondents, country_uses_python], axis='columns', sort=False)\n",
    "python_df.rename(columns={'Country': 'NumRespondents','LanguageWorkedWith':'NumKnowsPython'}, inplace=True )"
   ]
  },
  {
   "cell_type": "code",
   "execution_count": 135,
   "metadata": {},
   "outputs": [
    {
     "output_type": "execute_result",
     "data": {
      "text/plain": [
       "                       NumRespondents  NumKnowsPython\n",
       "United States                   20949           10083\n",
       "India                            9061            3105\n",
       "Germany                          5866            2451\n",
       "United Kingdom                   5737            2384\n",
       "Canada                           3395            1558\n",
       "...                               ...             ...\n",
       "Dominica                            1               1\n",
       "Brunei Darussalam                   1               0\n",
       "Chad                                1               0\n",
       "Timor-Leste                         1               1\n",
       "Sao Tome and Principe               1               1\n",
       "\n",
       "[179 rows x 2 columns]"
      ],
      "text/html": "<div>\n<style scoped>\n    .dataframe tbody tr th:only-of-type {\n        vertical-align: middle;\n    }\n\n    .dataframe tbody tr th {\n        vertical-align: top;\n    }\n\n    .dataframe thead th {\n        text-align: right;\n    }\n</style>\n<table border=\"1\" class=\"dataframe\">\n  <thead>\n    <tr style=\"text-align: right;\">\n      <th></th>\n      <th>NumRespondents</th>\n      <th>NumKnowsPython</th>\n    </tr>\n  </thead>\n  <tbody>\n    <tr>\n      <th>United States</th>\n      <td>20949</td>\n      <td>10083</td>\n    </tr>\n    <tr>\n      <th>India</th>\n      <td>9061</td>\n      <td>3105</td>\n    </tr>\n    <tr>\n      <th>Germany</th>\n      <td>5866</td>\n      <td>2451</td>\n    </tr>\n    <tr>\n      <th>United Kingdom</th>\n      <td>5737</td>\n      <td>2384</td>\n    </tr>\n    <tr>\n      <th>Canada</th>\n      <td>3395</td>\n      <td>1558</td>\n    </tr>\n    <tr>\n      <th>...</th>\n      <td>...</td>\n      <td>...</td>\n    </tr>\n    <tr>\n      <th>Dominica</th>\n      <td>1</td>\n      <td>1</td>\n    </tr>\n    <tr>\n      <th>Brunei Darussalam</th>\n      <td>1</td>\n      <td>0</td>\n    </tr>\n    <tr>\n      <th>Chad</th>\n      <td>1</td>\n      <td>0</td>\n    </tr>\n    <tr>\n      <th>Timor-Leste</th>\n      <td>1</td>\n      <td>1</td>\n    </tr>\n    <tr>\n      <th>Sao Tome and Principe</th>\n      <td>1</td>\n      <td>1</td>\n    </tr>\n  </tbody>\n</table>\n<p>179 rows × 2 columns</p>\n</div>"
     },
     "metadata": {},
     "execution_count": 135
    }
   ],
   "source": [
    "python_df"
   ]
  },
  {
   "cell_type": "code",
   "execution_count": 137,
   "metadata": {},
   "outputs": [
    {
     "output_type": "execute_result",
     "data": {
      "text/plain": [
       "                       NumRespondents  NumKnowsPython  PctKnowsPython\n",
       "United States                   20949           10083       48.131176\n",
       "India                            9061            3105       34.267741\n",
       "Germany                          5866            2451       41.783157\n",
       "United Kingdom                   5737            2384       41.554820\n",
       "Canada                           3395            1558       45.891016\n",
       "...                               ...             ...             ...\n",
       "Dominica                            1               1      100.000000\n",
       "Brunei Darussalam                   1               0        0.000000\n",
       "Chad                                1               0        0.000000\n",
       "Timor-Leste                         1               1      100.000000\n",
       "Sao Tome and Principe               1               1      100.000000\n",
       "\n",
       "[179 rows x 3 columns]"
      ],
      "text/html": "<div>\n<style scoped>\n    .dataframe tbody tr th:only-of-type {\n        vertical-align: middle;\n    }\n\n    .dataframe tbody tr th {\n        vertical-align: top;\n    }\n\n    .dataframe thead th {\n        text-align: right;\n    }\n</style>\n<table border=\"1\" class=\"dataframe\">\n  <thead>\n    <tr style=\"text-align: right;\">\n      <th></th>\n      <th>NumRespondents</th>\n      <th>NumKnowsPython</th>\n      <th>PctKnowsPython</th>\n    </tr>\n  </thead>\n  <tbody>\n    <tr>\n      <th>United States</th>\n      <td>20949</td>\n      <td>10083</td>\n      <td>48.131176</td>\n    </tr>\n    <tr>\n      <th>India</th>\n      <td>9061</td>\n      <td>3105</td>\n      <td>34.267741</td>\n    </tr>\n    <tr>\n      <th>Germany</th>\n      <td>5866</td>\n      <td>2451</td>\n      <td>41.783157</td>\n    </tr>\n    <tr>\n      <th>United Kingdom</th>\n      <td>5737</td>\n      <td>2384</td>\n      <td>41.554820</td>\n    </tr>\n    <tr>\n      <th>Canada</th>\n      <td>3395</td>\n      <td>1558</td>\n      <td>45.891016</td>\n    </tr>\n    <tr>\n      <th>...</th>\n      <td>...</td>\n      <td>...</td>\n      <td>...</td>\n    </tr>\n    <tr>\n      <th>Dominica</th>\n      <td>1</td>\n      <td>1</td>\n      <td>100.000000</td>\n    </tr>\n    <tr>\n      <th>Brunei Darussalam</th>\n      <td>1</td>\n      <td>0</td>\n      <td>0.000000</td>\n    </tr>\n    <tr>\n      <th>Chad</th>\n      <td>1</td>\n      <td>0</td>\n      <td>0.000000</td>\n    </tr>\n    <tr>\n      <th>Timor-Leste</th>\n      <td>1</td>\n      <td>1</td>\n      <td>100.000000</td>\n    </tr>\n    <tr>\n      <th>Sao Tome and Principe</th>\n      <td>1</td>\n      <td>1</td>\n      <td>100.000000</td>\n    </tr>\n  </tbody>\n</table>\n<p>179 rows × 3 columns</p>\n</div>"
     },
     "metadata": {},
     "execution_count": 137
    }
   ],
   "source": [
    "# Creating a new column in python_df (dataframe) for Percentage of People who knows python out of respondents\n",
    "python_df['PctKnowsPython'] = (python_df['NumKnowsPython']/python_df['NumRespondents']) * 100\n",
    "python_df"
   ]
  },
  {
   "cell_type": "code",
   "execution_count": 145,
   "metadata": {},
   "outputs": [
    {
     "output_type": "execute_result",
     "data": {
      "text/plain": [
       "                                  NumRespondents  NumKnowsPython  \\\n",
       "Sao Tome and Principe                          1               1   \n",
       "Dominica                                       1               1   \n",
       "Niger                                          1               1   \n",
       "Timor-Leste                                    1               1   \n",
       "Turkmenistan                                   7               6   \n",
       "Mauritania                                     7               5   \n",
       "Guyana                                         3               2   \n",
       "Guinea                                         3               2   \n",
       "Bahamas                                        3               2   \n",
       "Uganda                                        72              47   \n",
       "Iceland                                       49              30   \n",
       "Benin                                          5               3   \n",
       "Namibia                                        5               3   \n",
       "Haiti                                          5               3   \n",
       "Congo, Republic of the...                      7               4   \n",
       "Oman                                          11               6   \n",
       "Cuba                                          30              16   \n",
       "Republic of Korea                             39              20   \n",
       "Seychelles                                     2               1   \n",
       "South Korea                                  160              80   \n",
       "Sierra Leone                                   2               1   \n",
       "Bhutan                                         2               1   \n",
       "Monaco                                         4               2   \n",
       "San Marino                                     2               1   \n",
       "Chile                                        206             102   \n",
       "Finland                                      546             266   \n",
       "Kenya                                        249             120   \n",
       "United States                              20949           10083   \n",
       "Israel                                       952             457   \n",
       "Ecuador                                       82              39   \n",
       "Montenegro                                    17               8   \n",
       "Taiwan                                       187              88   \n",
       "Mongolia                                      17               8   \n",
       "Switzerland                                  978             460   \n",
       "United Republic of Tanzania                   32              15   \n",
       "Hong Kong (S.A.R.)                           188              88   \n",
       "Japan                                        391             182   \n",
       "Maldives                                      13               6   \n",
       "Canada                                      3395            1558   \n",
       "Singapore                                    303             139   \n",
       "New Zealand                                  524             236   \n",
       "China                                        664             297   \n",
       "Honduras                                      27              12   \n",
       "France                                      2391            1054   \n",
       "Iraq                                          39              17   \n",
       "Thailand                                     214              92   \n",
       "Democratic Republic of the Congo               7               3   \n",
       "Nepal                                        237             101   \n",
       "Estonia                                      195              82   \n",
       "Russian Federation                          1694             708   \n",
       "\n",
       "                                  PctKnowsPython  \n",
       "Sao Tome and Principe                 100.000000  \n",
       "Dominica                              100.000000  \n",
       "Niger                                 100.000000  \n",
       "Timor-Leste                           100.000000  \n",
       "Turkmenistan                           85.714286  \n",
       "Mauritania                             71.428571  \n",
       "Guyana                                 66.666667  \n",
       "Guinea                                 66.666667  \n",
       "Bahamas                                66.666667  \n",
       "Uganda                                 65.277778  \n",
       "Iceland                                61.224490  \n",
       "Benin                                  60.000000  \n",
       "Namibia                                60.000000  \n",
       "Haiti                                  60.000000  \n",
       "Congo, Republic of the...              57.142857  \n",
       "Oman                                   54.545455  \n",
       "Cuba                                   53.333333  \n",
       "Republic of Korea                      51.282051  \n",
       "Seychelles                             50.000000  \n",
       "South Korea                            50.000000  \n",
       "Sierra Leone                           50.000000  \n",
       "Bhutan                                 50.000000  \n",
       "Monaco                                 50.000000  \n",
       "San Marino                             50.000000  \n",
       "Chile                                  49.514563  \n",
       "Finland                                48.717949  \n",
       "Kenya                                  48.192771  \n",
       "United States                          48.131176  \n",
       "Israel                                 48.004202  \n",
       "Ecuador                                47.560976  \n",
       "Montenegro                             47.058824  \n",
       "Taiwan                                 47.058824  \n",
       "Mongolia                               47.058824  \n",
       "Switzerland                            47.034765  \n",
       "United Republic of Tanzania            46.875000  \n",
       "Hong Kong (S.A.R.)                     46.808511  \n",
       "Japan                                  46.547315  \n",
       "Maldives                               46.153846  \n",
       "Canada                                 45.891016  \n",
       "Singapore                              45.874587  \n",
       "New Zealand                            45.038168  \n",
       "China                                  44.728916  \n",
       "Honduras                               44.444444  \n",
       "France                                 44.081974  \n",
       "Iraq                                   43.589744  \n",
       "Thailand                               42.990654  \n",
       "Democratic Republic of the Congo       42.857143  \n",
       "Nepal                                  42.616034  \n",
       "Estonia                                42.051282  \n",
       "Russian Federation                     41.794569  "
      ],
      "text/html": "<div>\n<style scoped>\n    .dataframe tbody tr th:only-of-type {\n        vertical-align: middle;\n    }\n\n    .dataframe tbody tr th {\n        vertical-align: top;\n    }\n\n    .dataframe thead th {\n        text-align: right;\n    }\n</style>\n<table border=\"1\" class=\"dataframe\">\n  <thead>\n    <tr style=\"text-align: right;\">\n      <th></th>\n      <th>NumRespondents</th>\n      <th>NumKnowsPython</th>\n      <th>PctKnowsPython</th>\n    </tr>\n  </thead>\n  <tbody>\n    <tr>\n      <th>Sao Tome and Principe</th>\n      <td>1</td>\n      <td>1</td>\n      <td>100.000000</td>\n    </tr>\n    <tr>\n      <th>Dominica</th>\n      <td>1</td>\n      <td>1</td>\n      <td>100.000000</td>\n    </tr>\n    <tr>\n      <th>Niger</th>\n      <td>1</td>\n      <td>1</td>\n      <td>100.000000</td>\n    </tr>\n    <tr>\n      <th>Timor-Leste</th>\n      <td>1</td>\n      <td>1</td>\n      <td>100.000000</td>\n    </tr>\n    <tr>\n      <th>Turkmenistan</th>\n      <td>7</td>\n      <td>6</td>\n      <td>85.714286</td>\n    </tr>\n    <tr>\n      <th>Mauritania</th>\n      <td>7</td>\n      <td>5</td>\n      <td>71.428571</td>\n    </tr>\n    <tr>\n      <th>Guyana</th>\n      <td>3</td>\n      <td>2</td>\n      <td>66.666667</td>\n    </tr>\n    <tr>\n      <th>Guinea</th>\n      <td>3</td>\n      <td>2</td>\n      <td>66.666667</td>\n    </tr>\n    <tr>\n      <th>Bahamas</th>\n      <td>3</td>\n      <td>2</td>\n      <td>66.666667</td>\n    </tr>\n    <tr>\n      <th>Uganda</th>\n      <td>72</td>\n      <td>47</td>\n      <td>65.277778</td>\n    </tr>\n    <tr>\n      <th>Iceland</th>\n      <td>49</td>\n      <td>30</td>\n      <td>61.224490</td>\n    </tr>\n    <tr>\n      <th>Benin</th>\n      <td>5</td>\n      <td>3</td>\n      <td>60.000000</td>\n    </tr>\n    <tr>\n      <th>Namibia</th>\n      <td>5</td>\n      <td>3</td>\n      <td>60.000000</td>\n    </tr>\n    <tr>\n      <th>Haiti</th>\n      <td>5</td>\n      <td>3</td>\n      <td>60.000000</td>\n    </tr>\n    <tr>\n      <th>Congo, Republic of the...</th>\n      <td>7</td>\n      <td>4</td>\n      <td>57.142857</td>\n    </tr>\n    <tr>\n      <th>Oman</th>\n      <td>11</td>\n      <td>6</td>\n      <td>54.545455</td>\n    </tr>\n    <tr>\n      <th>Cuba</th>\n      <td>30</td>\n      <td>16</td>\n      <td>53.333333</td>\n    </tr>\n    <tr>\n      <th>Republic of Korea</th>\n      <td>39</td>\n      <td>20</td>\n      <td>51.282051</td>\n    </tr>\n    <tr>\n      <th>Seychelles</th>\n      <td>2</td>\n      <td>1</td>\n      <td>50.000000</td>\n    </tr>\n    <tr>\n      <th>South Korea</th>\n      <td>160</td>\n      <td>80</td>\n      <td>50.000000</td>\n    </tr>\n    <tr>\n      <th>Sierra Leone</th>\n      <td>2</td>\n      <td>1</td>\n      <td>50.000000</td>\n    </tr>\n    <tr>\n      <th>Bhutan</th>\n      <td>2</td>\n      <td>1</td>\n      <td>50.000000</td>\n    </tr>\n    <tr>\n      <th>Monaco</th>\n      <td>4</td>\n      <td>2</td>\n      <td>50.000000</td>\n    </tr>\n    <tr>\n      <th>San Marino</th>\n      <td>2</td>\n      <td>1</td>\n      <td>50.000000</td>\n    </tr>\n    <tr>\n      <th>Chile</th>\n      <td>206</td>\n      <td>102</td>\n      <td>49.514563</td>\n    </tr>\n    <tr>\n      <th>Finland</th>\n      <td>546</td>\n      <td>266</td>\n      <td>48.717949</td>\n    </tr>\n    <tr>\n      <th>Kenya</th>\n      <td>249</td>\n      <td>120</td>\n      <td>48.192771</td>\n    </tr>\n    <tr>\n      <th>United States</th>\n      <td>20949</td>\n      <td>10083</td>\n      <td>48.131176</td>\n    </tr>\n    <tr>\n      <th>Israel</th>\n      <td>952</td>\n      <td>457</td>\n      <td>48.004202</td>\n    </tr>\n    <tr>\n      <th>Ecuador</th>\n      <td>82</td>\n      <td>39</td>\n      <td>47.560976</td>\n    </tr>\n    <tr>\n      <th>Montenegro</th>\n      <td>17</td>\n      <td>8</td>\n      <td>47.058824</td>\n    </tr>\n    <tr>\n      <th>Taiwan</th>\n      <td>187</td>\n      <td>88</td>\n      <td>47.058824</td>\n    </tr>\n    <tr>\n      <th>Mongolia</th>\n      <td>17</td>\n      <td>8</td>\n      <td>47.058824</td>\n    </tr>\n    <tr>\n      <th>Switzerland</th>\n      <td>978</td>\n      <td>460</td>\n      <td>47.034765</td>\n    </tr>\n    <tr>\n      <th>United Republic of Tanzania</th>\n      <td>32</td>\n      <td>15</td>\n      <td>46.875000</td>\n    </tr>\n    <tr>\n      <th>Hong Kong (S.A.R.)</th>\n      <td>188</td>\n      <td>88</td>\n      <td>46.808511</td>\n    </tr>\n    <tr>\n      <th>Japan</th>\n      <td>391</td>\n      <td>182</td>\n      <td>46.547315</td>\n    </tr>\n    <tr>\n      <th>Maldives</th>\n      <td>13</td>\n      <td>6</td>\n      <td>46.153846</td>\n    </tr>\n    <tr>\n      <th>Canada</th>\n      <td>3395</td>\n      <td>1558</td>\n      <td>45.891016</td>\n    </tr>\n    <tr>\n      <th>Singapore</th>\n      <td>303</td>\n      <td>139</td>\n      <td>45.874587</td>\n    </tr>\n    <tr>\n      <th>New Zealand</th>\n      <td>524</td>\n      <td>236</td>\n      <td>45.038168</td>\n    </tr>\n    <tr>\n      <th>China</th>\n      <td>664</td>\n      <td>297</td>\n      <td>44.728916</td>\n    </tr>\n    <tr>\n      <th>Honduras</th>\n      <td>27</td>\n      <td>12</td>\n      <td>44.444444</td>\n    </tr>\n    <tr>\n      <th>France</th>\n      <td>2391</td>\n      <td>1054</td>\n      <td>44.081974</td>\n    </tr>\n    <tr>\n      <th>Iraq</th>\n      <td>39</td>\n      <td>17</td>\n      <td>43.589744</td>\n    </tr>\n    <tr>\n      <th>Thailand</th>\n      <td>214</td>\n      <td>92</td>\n      <td>42.990654</td>\n    </tr>\n    <tr>\n      <th>Democratic Republic of the Congo</th>\n      <td>7</td>\n      <td>3</td>\n      <td>42.857143</td>\n    </tr>\n    <tr>\n      <th>Nepal</th>\n      <td>237</td>\n      <td>101</td>\n      <td>42.616034</td>\n    </tr>\n    <tr>\n      <th>Estonia</th>\n      <td>195</td>\n      <td>82</td>\n      <td>42.051282</td>\n    </tr>\n    <tr>\n      <th>Russian Federation</th>\n      <td>1694</td>\n      <td>708</td>\n      <td>41.794569</td>\n    </tr>\n  </tbody>\n</table>\n</div>"
     },
     "metadata": {},
     "execution_count": 145
    }
   ],
   "source": [
    "# Sorting by percentage of python dataframe\n",
    "python_df.sort_values(by='PctKnowsPython', ascending=False, inplace=True)\n",
    "python_df.head(50)"
   ]
  },
  {
   "cell_type": "code",
   "execution_count": 147,
   "metadata": {},
   "outputs": [
    {
     "output_type": "execute_result",
     "data": {
      "text/plain": [
       "NumRespondents    923.000000\n",
       "NumKnowsPython    251.000000\n",
       "PctKnowsPython     27.193933\n",
       "Name: Pakistan, dtype: float64"
      ]
     },
     "metadata": {},
     "execution_count": 147
    }
   ],
   "source": [
    "# Data for Pakistan - Use .loc as country is the index\n",
    "python_df.loc['Pakistan']\n"
   ]
  }
 ]
}